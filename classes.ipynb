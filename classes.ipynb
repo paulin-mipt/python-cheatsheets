{
 "cells": [
  {
   "cell_type": "markdown",
   "metadata": {},
   "source": [
    "## Notes on seminars 6-7\n",
    "### Classes & company"
   ]
  },
  {
   "cell_type": "markdown",
   "metadata": {},
   "source": [
    "### 1. Basic class syntax"
   ]
  },
  {
   "cell_type": "code",
   "execution_count": 1,
   "metadata": {},
   "outputs": [],
   "source": [
    "class MyLittleClass:\n",
    "    color = \"blue\"\n",
    "    \n",
    "    def set_color(self, color_):\n",
    "        color = color_\n",
    "        print('set color to {}'.format(color))\n"
   ]
  },
  {
   "cell_type": "code",
   "execution_count": 2,
   "metadata": {},
   "outputs": [
    {
     "name": "stdout",
     "output_type": "stream",
     "text": [
      "blue\n",
      "set color to red\n",
      "blue\n"
     ]
    }
   ],
   "source": [
    "obj = MyLittleClass()\n",
    "print(obj.color)\n",
    "\n",
    "obj.set_color('red')\n",
    "print(obj.color)"
   ]
  },
  {
   "cell_type": "markdown",
   "metadata": {},
   "source": [
    "__Q__: WTF?!\n",
    "\n",
    "__A__: One should change attributes through `self.attribute_name` construction. `color` in `set_color` was just a local variable, nothing to do with a class member :)"
   ]
  },
  {
   "cell_type": "code",
   "execution_count": 3,
   "metadata": {},
   "outputs": [],
   "source": [
    "class MyLittleClass2:\n",
    "    color = \"blue\"\n",
    "    \n",
    "    def set_color(self, color_):\n",
    "        self.color = color_  # now that's better :)\n",
    "        print('set color to {}'.format(self.color))"
   ]
  },
  {
   "cell_type": "code",
   "execution_count": 4,
   "metadata": {},
   "outputs": [
    {
     "name": "stdout",
     "output_type": "stream",
     "text": [
      "blue\n",
      "set color to red\n",
      "red\n"
     ]
    }
   ],
   "source": [
    "obj = MyLittleClass2()\n",
    "print(obj.color)\n",
    "\n",
    "obj.set_color('red')\n",
    "print(obj.color)"
   ]
  },
  {
   "cell_type": "code",
   "execution_count": 6,
   "metadata": {},
   "outputs": [
    {
     "name": "stdout",
     "output_type": "stream",
     "text": [
      "green\n"
     ]
    }
   ],
   "source": [
    "# No, we don't have to have a special method to alter attributes. But it's still a good practice.\n",
    "obj.color = 'green'\n",
    "print(obj.color)"
   ]
  },
  {
   "cell_type": "markdown",
   "metadata": {},
   "source": [
    "__Q:__ Can I introduce a completely new class member right to the object?\n",
    "\n",
    "__A:__ Sure!"
   ]
  },
  {
   "cell_type": "code",
   "execution_count": 7,
   "metadata": {},
   "outputs": [
    {
     "name": "stdout",
     "output_type": "stream",
     "text": [
      "42\n"
     ]
    }
   ],
   "source": [
    "obj.some_attribute = 42\n",
    "print(obj.some_attribute)"
   ]
  },
  {
   "cell_type": "markdown",
   "metadata": {},
   "source": [
    "__Q:__ Why do I have `self` as an argument?\n",
    "\n",
    "__A:__ When calling something like `obj.methodname()`, the first argument is technically `obj` (also known as `self`)"
   ]
  },
  {
   "cell_type": "code",
   "execution_count": 8,
   "metadata": {},
   "outputs": [],
   "source": [
    "class MyLittleClass3:\n",
    "    def method_without_self(arg):\n",
    "        print(arg)\n",
    "        \n",
    "    def method_with_self(self, arg):\n",
    "        print(arg)"
   ]
  },
  {
   "cell_type": "code",
   "execution_count": 10,
   "metadata": {},
   "outputs": [
    {
     "name": "stdout",
     "output_type": "stream",
     "text": [
      "i am an argument\n"
     ]
    },
    {
     "ename": "TypeError",
     "evalue": "method_without_self() takes 1 positional argument but 2 were given",
     "output_type": "error",
     "traceback": [
      "\u001b[0;31m---------------------------------------------------------------------------\u001b[0m",
      "\u001b[0;31mTypeError\u001b[0m                                 Traceback (most recent call last)",
      "\u001b[0;32m<ipython-input-10-b9b3d224da9c>\u001b[0m in \u001b[0;36m<module>\u001b[0;34m\u001b[0m\n\u001b[1;32m      1\u001b[0m \u001b[0mobj\u001b[0m \u001b[0;34m=\u001b[0m \u001b[0mMyLittleClass3\u001b[0m\u001b[0;34m(\u001b[0m\u001b[0;34m)\u001b[0m\u001b[0;34m\u001b[0m\u001b[0;34m\u001b[0m\u001b[0m\n\u001b[1;32m      2\u001b[0m \u001b[0mobj\u001b[0m\u001b[0;34m.\u001b[0m\u001b[0mmethod_with_self\u001b[0m\u001b[0;34m(\u001b[0m\u001b[0;34m'i am an argument'\u001b[0m\u001b[0;34m)\u001b[0m\u001b[0;34m\u001b[0m\u001b[0;34m\u001b[0m\u001b[0m\n\u001b[0;32m----> 3\u001b[0;31m \u001b[0mobj\u001b[0m\u001b[0;34m.\u001b[0m\u001b[0mmethod_without_self\u001b[0m\u001b[0;34m(\u001b[0m\u001b[0;34m'i am another argument'\u001b[0m\u001b[0;34m)\u001b[0m \u001b[0;31m# actually, here's two arguments: self & arg\u001b[0m\u001b[0;34m\u001b[0m\u001b[0;34m\u001b[0m\u001b[0m\n\u001b[0m",
      "\u001b[0;31mTypeError\u001b[0m: method_without_self() takes 1 positional argument but 2 were given"
     ]
    }
   ],
   "source": [
    "obj = MyLittleClass3()\n",
    "obj.method_with_self('i am an argument')\n",
    "obj.method_without_self('i am another argument') # actually, here's two arguments: self & arg"
   ]
  },
  {
   "cell_type": "markdown",
   "metadata": {},
   "source": [
    "__Q:__ So, how can I call a method without `self`?\n",
    "\n",
    "__A:__ They're not bound to a specific class instance, but we can call them through class definition itself"
   ]
  },
  {
   "cell_type": "code",
   "execution_count": 11,
   "metadata": {},
   "outputs": [
    {
     "name": "stdout",
     "output_type": "stream",
     "text": [
      "i am another argument\n"
     ]
    }
   ],
   "source": [
    "MyLittleClass3.method_without_self('i am another argument') # only one argument this time"
   ]
  },
  {
   "cell_type": "markdown",
   "metadata": {},
   "source": [
    "__Q:__ Can I take the method out of context of the class?\n",
    "\n",
    "__A:__ No problem!"
   ]
  },
  {
   "cell_type": "code",
   "execution_count": 12,
   "metadata": {},
   "outputs": [
    {
     "name": "stdout",
     "output_type": "stream",
     "text": [
      "hello\n"
     ]
    }
   ],
   "source": [
    "func = MyLittleClass3.method_without_self\n",
    "func(\"hello\")"
   ]
  },
  {
   "cell_type": "code",
   "execution_count": 13,
   "metadata": {},
   "outputs": [
    {
     "ename": "TypeError",
     "evalue": "method_with_self() missing 1 required positional argument: 'arg'",
     "output_type": "error",
     "traceback": [
      "\u001b[0;31m---------------------------------------------------------------------------\u001b[0m",
      "\u001b[0;31mTypeError\u001b[0m                                 Traceback (most recent call last)",
      "\u001b[0;32m<ipython-input-13-543aea58463b>\u001b[0m in \u001b[0;36m<module>\u001b[0;34m\u001b[0m\n\u001b[1;32m      1\u001b[0m \u001b[0mfunc2\u001b[0m \u001b[0;34m=\u001b[0m \u001b[0mMyLittleClass3\u001b[0m\u001b[0;34m.\u001b[0m\u001b[0mmethod_with_self\u001b[0m\u001b[0;34m\u001b[0m\u001b[0;34m\u001b[0m\u001b[0m\n\u001b[0;32m----> 2\u001b[0;31m \u001b[0mfunc2\u001b[0m\u001b[0;34m(\u001b[0m\u001b[0;34m\"hello\"\u001b[0m\u001b[0;34m)\u001b[0m\u001b[0;34m\u001b[0m\u001b[0;34m\u001b[0m\u001b[0m\n\u001b[0m",
      "\u001b[0;31mTypeError\u001b[0m: method_with_self() missing 1 required positional argument: 'arg'"
     ]
    }
   ],
   "source": [
    "func2 = MyLittleClass3.method_with_self\n",
    "func2(\"hello\")"
   ]
  },
  {
   "cell_type": "markdown",
   "metadata": {},
   "source": [
    "Seems like we forgot about `self`?"
   ]
  },
  {
   "cell_type": "code",
   "execution_count": 14,
   "metadata": {},
   "outputs": [
    {
     "name": "stdout",
     "output_type": "stream",
     "text": [
      "hello\n"
     ]
    }
   ],
   "source": [
    "obj = MyLittleClass3()\n",
    "func2(obj, \"hello\")"
   ]
  },
  {
   "cell_type": "markdown",
   "metadata": {},
   "source": [
    "__Q:__ And even put it back to the class??\n",
    "\n",
    "__A:__ It's python. Sure we can!"
   ]
  },
  {
   "cell_type": "code",
   "execution_count": 15,
   "metadata": {},
   "outputs": [
    {
     "ename": "AttributeError",
     "evalue": "'MyLittleClass3' object has no attribute 'get_color'",
     "output_type": "error",
     "traceback": [
      "\u001b[0;31m---------------------------------------------------------------------------\u001b[0m",
      "\u001b[0;31mAttributeError\u001b[0m                            Traceback (most recent call last)",
      "\u001b[0;32m<ipython-input-15-78f1df7c55df>\u001b[0m in \u001b[0;36m<module>\u001b[0;34m\u001b[0m\n\u001b[0;32m----> 1\u001b[0;31m \u001b[0mobj\u001b[0m\u001b[0;34m.\u001b[0m\u001b[0mget_color\u001b[0m\u001b[0;34m(\u001b[0m\u001b[0;34m)\u001b[0m\u001b[0;34m\u001b[0m\u001b[0;34m\u001b[0m\u001b[0m\n\u001b[0m",
      "\u001b[0;31mAttributeError\u001b[0m: 'MyLittleClass3' object has no attribute 'get_color'"
     ]
    }
   ],
   "source": [
    "obj.get_color()"
   ]
  },
  {
   "cell_type": "code",
   "execution_count": 17,
   "metadata": {},
   "outputs": [
    {
     "ename": "AttributeError",
     "evalue": "'MyLittleClass3' object has no attribute 'color'",
     "output_type": "error",
     "traceback": [
      "\u001b[0;31m---------------------------------------------------------------------------\u001b[0m",
      "\u001b[0;31mAttributeError\u001b[0m                            Traceback (most recent call last)",
      "\u001b[0;32m<ipython-input-17-64f1a5dc328c>\u001b[0m in \u001b[0;36m<module>\u001b[0;34m\u001b[0m\n\u001b[1;32m      4\u001b[0m \u001b[0mMyLittleClass3\u001b[0m\u001b[0;34m.\u001b[0m\u001b[0mget_color\u001b[0m \u001b[0;34m=\u001b[0m \u001b[0mget_color_function\u001b[0m\u001b[0;34m\u001b[0m\u001b[0;34m\u001b[0m\u001b[0m\n\u001b[1;32m      5\u001b[0m \u001b[0mobj\u001b[0m \u001b[0;34m=\u001b[0m \u001b[0mMyLittleClass3\u001b[0m\u001b[0;34m(\u001b[0m\u001b[0;34m)\u001b[0m\u001b[0;34m\u001b[0m\u001b[0;34m\u001b[0m\u001b[0m\n\u001b[0;32m----> 6\u001b[0;31m \u001b[0mobj\u001b[0m\u001b[0;34m.\u001b[0m\u001b[0mget_color\u001b[0m\u001b[0;34m(\u001b[0m\u001b[0;34m)\u001b[0m\u001b[0;34m\u001b[0m\u001b[0;34m\u001b[0m\u001b[0m\n\u001b[0m",
      "\u001b[0;32m<ipython-input-17-64f1a5dc328c>\u001b[0m in \u001b[0;36mget_color_function\u001b[0;34m(self)\u001b[0m\n\u001b[1;32m      1\u001b[0m \u001b[0;32mdef\u001b[0m \u001b[0mget_color_function\u001b[0m\u001b[0;34m(\u001b[0m\u001b[0mself\u001b[0m\u001b[0;34m)\u001b[0m\u001b[0;34m:\u001b[0m  \u001b[0;31m# self is just a name of an argument, nothing special about it\u001b[0m\u001b[0;34m\u001b[0m\u001b[0;34m\u001b[0m\u001b[0m\n\u001b[0;32m----> 2\u001b[0;31m     \u001b[0;32mreturn\u001b[0m \u001b[0mself\u001b[0m\u001b[0;34m.\u001b[0m\u001b[0mcolor\u001b[0m\u001b[0;34m\u001b[0m\u001b[0;34m\u001b[0m\u001b[0m\n\u001b[0m\u001b[1;32m      3\u001b[0m \u001b[0;34m\u001b[0m\u001b[0m\n\u001b[1;32m      4\u001b[0m \u001b[0mMyLittleClass3\u001b[0m\u001b[0;34m.\u001b[0m\u001b[0mget_color\u001b[0m \u001b[0;34m=\u001b[0m \u001b[0mget_color_function\u001b[0m\u001b[0;34m\u001b[0m\u001b[0;34m\u001b[0m\u001b[0m\n\u001b[1;32m      5\u001b[0m \u001b[0mobj\u001b[0m \u001b[0;34m=\u001b[0m \u001b[0mMyLittleClass3\u001b[0m\u001b[0;34m(\u001b[0m\u001b[0;34m)\u001b[0m\u001b[0;34m\u001b[0m\u001b[0;34m\u001b[0m\u001b[0m\n",
      "\u001b[0;31mAttributeError\u001b[0m: 'MyLittleClass3' object has no attribute 'color'"
     ]
    }
   ],
   "source": [
    "def get_color_function(self):  # self is just a name of an argument, nothing special about it\n",
    "    return self.color\n",
    "\n",
    "MyLittleClass3.get_color = get_color_function\n",
    "obj = MyLittleClass3()\n",
    "obj.get_color()"
   ]
  },
  {
   "cell_type": "markdown",
   "metadata": {},
   "source": [
    "Ah, no `color` inside. Let's fix it!"
   ]
  },
  {
   "cell_type": "code",
   "execution_count": 18,
   "metadata": {},
   "outputs": [
    {
     "data": {
      "text/plain": [
       "'pink'"
      ]
     },
     "execution_count": 18,
     "metadata": {},
     "output_type": "execute_result"
    }
   ],
   "source": [
    "obj.color = 'pink'\n",
    "obj.get_color()"
   ]
  },
  {
   "cell_type": "markdown",
   "metadata": {},
   "source": [
    "__Q:__ Do I have to catch exceptions if I'm not sure whether a member exists or not?\n",
    "\n",
    "__A:__ No, don't forget about `dir`!"
   ]
  },
  {
   "cell_type": "code",
   "execution_count": 19,
   "metadata": {},
   "outputs": [
    {
     "name": "stdout",
     "output_type": "stream",
     "text": [
      "['__class__', '__delattr__', '__dict__', '__dir__', '__doc__', '__eq__', '__format__', '__ge__', '__getattribute__', '__gt__', '__hash__', '__init__', '__init_subclass__', '__le__', '__lt__', '__module__', '__ne__', '__new__', '__reduce__', '__reduce_ex__', '__repr__', '__setattr__', '__sizeof__', '__str__', '__subclasshook__', '__weakref__', 'color', 'get_color', 'method_with_self', 'method_without_self']\n"
     ]
    }
   ],
   "source": [
    "print(dir(obj))"
   ]
  },
  {
   "cell_type": "code",
   "execution_count": 20,
   "metadata": {},
   "outputs": [
    {
     "name": "stdout",
     "output_type": "stream",
     "text": [
      "['__class__', '__delattr__', '__dir__', '__eq__', '__format__', '__ge__', '__getattribute__', '__gt__', '__hash__', '__init__', '__init_subclass__', '__le__', '__lt__', '__ne__', '__new__', '__reduce__', '__reduce_ex__', '__repr__', '__setattr__', '__sizeof__', '__str__', '__subclasshook__', 'get_color', 'method_with_self', 'method_without_self']\n"
     ]
    }
   ],
   "source": [
    "# filter only callables\n",
    "print([name for name in dir(obj) if callable(getattr(obj, name))])"
   ]
  },
  {
   "cell_type": "code",
   "execution_count": 21,
   "metadata": {},
   "outputs": [
    {
     "name": "stdout",
     "output_type": "stream",
     "text": [
      "[]\n",
      "[]\n",
      "['obj']\n",
      "['ClassWithNothing', 'In', 'MyLittleClass', 'MyLittleClass2', 'MyLittleClass3', 'Out', '_', '_18', '__', '___', '__builtin__', '__builtins__', '__doc__', '__loader__', '__name__', '__package__', '__spec__', '_dh', '_i', '_i1', '_i10', '_i11', '_i12', '_i13', '_i14', '_i15', '_i16', '_i17', '_i18', '_i19', '_i2', '_i20', '_i21', '_i3', '_i4', '_i5', '_i6', '_i7', '_i8', '_i9', '_ih', '_ii', '_iii', '_oh', 'exit', 'func', 'func2', 'get_color_function', 'get_ipython', 'nobject', 'obj', 'print_custom_attrs', 'quit']\n"
     ]
    }
   ],
   "source": [
    "class ClassWithNothing:\n",
    "    pass\n",
    "\n",
    "nobject = ClassWithNothing()\n",
    "\n",
    "def print_custom_attrs(obj=None):\n",
    "    if obj is None:\n",
    "        # в локальной области видимости!\n",
    "        attrs = dir()\n",
    "    else:\n",
    "        attrs = dir(obj)\n",
    "    print([name for name in attrs if not name.startswith('__')])\n",
    "    \n",
    "print_custom_attrs(nobject)\n",
    "print_custom_attrs(ClassWithNothing)\n",
    "print_custom_attrs()\n",
    "print(dir())"
   ]
  },
  {
   "cell_type": "code",
   "execution_count": 22,
   "metadata": {},
   "outputs": [
    {
     "name": "stdout",
     "output_type": "stream",
     "text": [
      "['my_attribute', 'my_instance_attribute']\n",
      "['my_attribute']\n"
     ]
    }
   ],
   "source": [
    "ClassWithNothing.my_attribute = 'my value'\n",
    "nobject.my_instance_attribute = \"my value 2\"\n",
    "\n",
    "print_custom_attrs(nobject)\n",
    "print_custom_attrs(ClassWithNothing)"
   ]
  },
  {
   "cell_type": "markdown",
   "metadata": {},
   "source": [
    "### 2. Inheritance"
   ]
  },
  {
   "cell_type": "code",
   "execution_count": 24,
   "metadata": {},
   "outputs": [],
   "source": [
    "class Animal:\n",
    "    some_value = \"animal\"\n",
    "    def __init__(self):\n",
    "        print(\"i am an animal\")\n",
    "    \n",
    "    def speak(self):\n",
    "        raise NotImplementedError('i don\\'t know how to speak')\n",
    "\n",
    "        \n",
    "class Cat(Animal):\n",
    "    some_value = \"cat\"\n",
    "    def __init__(self):\n",
    "        super().__init__()\n",
    "        print(\"i am a cat\")\n",
    "    \n",
    "    def speak(self):\n",
    "        print('meoooow')\n",
    "\n",
    "        \n",
    "class Hedgehog(Animal):\n",
    "    def __init__(self):\n",
    "        super().__init__()\n",
    "        print(\"i am a hedgehog\")\n",
    "\n",
    "        \n",
    "class Dog(Animal):\n",
    "    some_value = \"dog\"\n",
    "    def __init__(self):\n",
    "        super().__init__()\n",
    "        print(\"i am a dog\")\n",
    "\n",
    "        \n",
    "class CatDog(Cat, Dog):  # diamond inheritance is possible, but please avoid it as long as possible\n",
    "    def __init__(self):\n",
    "        super().__init__()\n",
    "        print(\"i am a CatDog!\")"
   ]
  },
  {
   "cell_type": "code",
   "execution_count": 25,
   "metadata": {},
   "outputs": [
    {
     "name": "stdout",
     "output_type": "stream",
     "text": [
      "i am an animal\n"
     ]
    },
    {
     "data": {
      "text/plain": [
       "'animal'"
      ]
     },
     "execution_count": 25,
     "metadata": {},
     "output_type": "execute_result"
    }
   ],
   "source": [
    "animal = Animal()\n",
    "animal.some_value"
   ]
  },
  {
   "cell_type": "code",
   "execution_count": 26,
   "metadata": {},
   "outputs": [
    {
     "name": "stdout",
     "output_type": "stream",
     "text": [
      "i am an animal\n",
      "i am a cat\n"
     ]
    },
    {
     "data": {
      "text/plain": [
       "'cat'"
      ]
     },
     "execution_count": 26,
     "metadata": {},
     "output_type": "execute_result"
    }
   ],
   "source": [
    "cat = Cat()\n",
    "cat.some_value # redefined"
   ]
  },
  {
   "cell_type": "code",
   "execution_count": 27,
   "metadata": {},
   "outputs": [
    {
     "name": "stdout",
     "output_type": "stream",
     "text": [
      "i am an animal\n",
      "i am a hedgehog\n"
     ]
    },
    {
     "data": {
      "text/plain": [
       "'animal'"
      ]
     },
     "execution_count": 27,
     "metadata": {},
     "output_type": "execute_result"
    }
   ],
   "source": [
    "hedgehog = Hedgehog()\n",
    "hedgehog.some_value # wasn't redefined"
   ]
  },
  {
   "cell_type": "code",
   "execution_count": 28,
   "metadata": {},
   "outputs": [
    {
     "name": "stdout",
     "output_type": "stream",
     "text": [
      "i am an animal\n",
      "i am a dog\n"
     ]
    },
    {
     "data": {
      "text/plain": [
       "'dog'"
      ]
     },
     "execution_count": 28,
     "metadata": {},
     "output_type": "execute_result"
    }
   ],
   "source": [
    "dog = Dog()\n",
    "dog.some_value # redefined"
   ]
  },
  {
   "cell_type": "code",
   "execution_count": 29,
   "metadata": {},
   "outputs": [
    {
     "name": "stdout",
     "output_type": "stream",
     "text": [
      "i am an animal\n",
      "i am a dog\n",
      "i am a cat\n",
      "i am a CatDog!\n"
     ]
    },
    {
     "data": {
      "text/plain": [
       "'cat'"
      ]
     },
     "execution_count": 29,
     "metadata": {},
     "output_type": "execute_result"
    }
   ],
   "source": [
    "catdog = CatDog()\n",
    "catdog.some_value"
   ]
  },
  {
   "cell_type": "markdown",
   "metadata": {},
   "source": [
    "__Q:__ Was the initialization order random?\n",
    "    \n",
    "__A:__ Not at all!"
   ]
  },
  {
   "cell_type": "code",
   "execution_count": 31,
   "metadata": {},
   "outputs": [
    {
     "name": "stdout",
     "output_type": "stream",
     "text": [
      "i am an animal\n",
      "i am a cat\n",
      "i am a dog\n",
      "i am a CatDog!\n"
     ]
    },
    {
     "data": {
      "text/plain": [
       "'dog'"
      ]
     },
     "execution_count": 31,
     "metadata": {},
     "output_type": "execute_result"
    }
   ],
   "source": [
    "class CatDog(Dog, Cat):  # changed order here!\n",
    "    def __init__(self):\n",
    "        super().__init__()\n",
    "        print(\"i am a CatDog!\")\n",
    "\n",
    "catdog = CatDog()\n",
    "catdog.some_value"
   ]
  },
  {
   "cell_type": "markdown",
   "metadata": {},
   "source": [
    "__Q:__ What about method redefinition?\n",
    "    \n",
    "__A:__ Nothing special, both attributes and methods are just class members and behave similarly"
   ]
  },
  {
   "cell_type": "code",
   "execution_count": 32,
   "metadata": {},
   "outputs": [
    {
     "name": "stdout",
     "output_type": "stream",
     "text": [
      "meoooow\n"
     ]
    },
    {
     "ename": "NotImplementedError",
     "evalue": "i don't know how to speak",
     "output_type": "error",
     "traceback": [
      "\u001b[0;31m---------------------------------------------------------------------------\u001b[0m",
      "\u001b[0;31mNotImplementedError\u001b[0m                       Traceback (most recent call last)",
      "\u001b[0;32m<ipython-input-32-a03e4934a088>\u001b[0m in \u001b[0;36m<module>\u001b[0;34m\u001b[0m\n\u001b[1;32m      1\u001b[0m \u001b[0mcat\u001b[0m\u001b[0;34m.\u001b[0m\u001b[0mspeak\u001b[0m\u001b[0;34m(\u001b[0m\u001b[0;34m)\u001b[0m \u001b[0;31m# redefined\u001b[0m\u001b[0;34m\u001b[0m\u001b[0;34m\u001b[0m\u001b[0m\n\u001b[0;32m----> 2\u001b[0;31m \u001b[0mdog\u001b[0m\u001b[0;34m.\u001b[0m\u001b[0mspeak\u001b[0m\u001b[0;34m(\u001b[0m\u001b[0;34m)\u001b[0m \u001b[0;31m# not redefined\u001b[0m\u001b[0;34m\u001b[0m\u001b[0;34m\u001b[0m\u001b[0m\n\u001b[0m",
      "\u001b[0;32m<ipython-input-24-c5bc4f2f1cae>\u001b[0m in \u001b[0;36mspeak\u001b[0;34m(self)\u001b[0m\n\u001b[1;32m      5\u001b[0m \u001b[0;34m\u001b[0m\u001b[0m\n\u001b[1;32m      6\u001b[0m     \u001b[0;32mdef\u001b[0m \u001b[0mspeak\u001b[0m\u001b[0;34m(\u001b[0m\u001b[0mself\u001b[0m\u001b[0;34m)\u001b[0m\u001b[0;34m:\u001b[0m\u001b[0;34m\u001b[0m\u001b[0;34m\u001b[0m\u001b[0m\n\u001b[0;32m----> 7\u001b[0;31m         \u001b[0;32mraise\u001b[0m \u001b[0mNotImplementedError\u001b[0m\u001b[0;34m(\u001b[0m\u001b[0;34m'i don\\'t know how to speak'\u001b[0m\u001b[0;34m)\u001b[0m\u001b[0;34m\u001b[0m\u001b[0;34m\u001b[0m\u001b[0m\n\u001b[0m\u001b[1;32m      8\u001b[0m \u001b[0;34m\u001b[0m\u001b[0m\n\u001b[1;32m      9\u001b[0m \u001b[0;34m\u001b[0m\u001b[0m\n",
      "\u001b[0;31mNotImplementedError\u001b[0m: i don't know how to speak"
     ]
    }
   ],
   "source": [
    "cat.speak() # redefined\n",
    "dog.speak() # not redefined"
   ]
  },
  {
   "cell_type": "markdown",
   "metadata": {},
   "source": [
    "### 3. Member access restriction\n",
    "Any chance of privacy?..."
   ]
  },
  {
   "cell_type": "code",
   "execution_count": 33,
   "metadata": {},
   "outputs": [],
   "source": [
    "class VeryPrivateDataHolder:\n",
    "    _secret = 1\n",
    "    __very_secret = 2"
   ]
  },
  {
   "cell_type": "code",
   "execution_count": 34,
   "metadata": {},
   "outputs": [
    {
     "name": "stdout",
     "output_type": "stream",
     "text": [
      "1\n"
     ]
    },
    {
     "ename": "AttributeError",
     "evalue": "'VeryPrivateDataHolder' object has no attribute '__very_secret'",
     "output_type": "error",
     "traceback": [
      "\u001b[0;31m---------------------------------------------------------------------------\u001b[0m",
      "\u001b[0;31mAttributeError\u001b[0m                            Traceback (most recent call last)",
      "\u001b[0;32m<ipython-input-34-c9fc34c93087>\u001b[0m in \u001b[0;36m<module>\u001b[0;34m\u001b[0m\n\u001b[1;32m      1\u001b[0m \u001b[0mobj\u001b[0m \u001b[0;34m=\u001b[0m \u001b[0mVeryPrivateDataHolder\u001b[0m\u001b[0;34m(\u001b[0m\u001b[0;34m)\u001b[0m\u001b[0;34m\u001b[0m\u001b[0;34m\u001b[0m\u001b[0m\n\u001b[1;32m      2\u001b[0m \u001b[0mprint\u001b[0m\u001b[0;34m(\u001b[0m\u001b[0mobj\u001b[0m\u001b[0;34m.\u001b[0m\u001b[0m_secret\u001b[0m\u001b[0;34m)\u001b[0m\u001b[0;34m\u001b[0m\u001b[0;34m\u001b[0m\u001b[0m\n\u001b[0;32m----> 3\u001b[0;31m \u001b[0mprint\u001b[0m\u001b[0;34m(\u001b[0m\u001b[0mobj\u001b[0m\u001b[0;34m.\u001b[0m\u001b[0m__very_secret\u001b[0m\u001b[0;34m)\u001b[0m\u001b[0;34m\u001b[0m\u001b[0;34m\u001b[0m\u001b[0m\n\u001b[0m",
      "\u001b[0;31mAttributeError\u001b[0m: 'VeryPrivateDataHolder' object has no attribute '__very_secret'"
     ]
    }
   ],
   "source": [
    "obj = VeryPrivateDataHolder()\n",
    "print(obj._secret)\n",
    "print(obj.__very_secret)"
   ]
  },
  {
   "cell_type": "markdown",
   "metadata": {},
   "source": [
    "__Q:__ So, is there...?\n",
    "\n",
    "__A:__ No...."
   ]
  },
  {
   "cell_type": "code",
   "execution_count": 37,
   "metadata": {},
   "outputs": [
    {
     "data": {
      "text/plain": [
       "'new secret'"
      ]
     },
     "execution_count": 37,
     "metadata": {},
     "output_type": "execute_result"
    }
   ],
   "source": [
    "obj._VeryPrivateDataHolder__very_secret  # never do this"
   ]
  },
  {
   "cell_type": "code",
   "execution_count": 38,
   "metadata": {},
   "outputs": [
    {
     "data": {
      "text/plain": [
       "'new secret'"
      ]
     },
     "execution_count": 38,
     "metadata": {},
     "output_type": "execute_result"
    }
   ],
   "source": [
    "obj._VeryPrivateDataHolder__very_secret = 'new secret'\n",
    "obj._VeryPrivateDataHolder__very_secret"
   ]
  },
  {
   "cell_type": "markdown",
   "metadata": {},
   "source": [
    "### 4. Magic methods\n",
    "Friendship is magic. Leave friendship to C++, Python is built by pure magic!"
   ]
  },
  {
   "cell_type": "code",
   "execution_count": 46,
   "metadata": {},
   "outputs": [
    {
     "data": {
      "text/plain": [
       "['__class__',\n",
       " '__delattr__',\n",
       " '__dir__',\n",
       " '__doc__',\n",
       " '__eq__',\n",
       " '__format__',\n",
       " '__ge__',\n",
       " '__getattribute__',\n",
       " '__gt__',\n",
       " '__hash__',\n",
       " '__init__',\n",
       " '__init_subclass__',\n",
       " '__le__',\n",
       " '__lt__',\n",
       " '__ne__',\n",
       " '__new__',\n",
       " '__reduce__',\n",
       " '__reduce_ex__',\n",
       " '__repr__',\n",
       " '__setattr__',\n",
       " '__sizeof__',\n",
       " '__str__',\n",
       " '__subclasshook__']"
      ]
     },
     "execution_count": 46,
     "metadata": {},
     "output_type": "execute_result"
    }
   ],
   "source": [
    "dir(object())  # some of them are defined by default, because every class in Python is inherited from object"
   ]
  },
  {
   "cell_type": "code",
   "execution_count": 39,
   "metadata": {},
   "outputs": [],
   "source": [
    "import random\n",
    "\n",
    "class Vector:        \n",
    "    def __init__(self, x=0, y=0, color=None):\n",
    "        print(\"initializing a vector\")\n",
    "        if not isinstance(x, int) or not isinstance(y, int):\n",
    "            raise AttributeError('x and y should be int')\n",
    "        \n",
    "        self._x = x\n",
    "        self._y = y\n",
    "        self._color = color\n",
    "    \n",
    "    def get_x(self):\n",
    "        return self._x\n",
    "    \n",
    "    def get_y(self):\n",
    "        return self._y"
   ]
  },
  {
   "cell_type": "markdown",
   "metadata": {},
   "source": [
    "Some methods called like `__methodname__` (magic methods, double-underscores, dunder methods - call them as you like)"
   ]
  },
  {
   "cell_type": "code",
   "execution_count": 40,
   "metadata": {},
   "outputs": [
    {
     "name": "stdout",
     "output_type": "stream",
     "text": [
      "initializing a vector\n"
     ]
    },
    {
     "data": {
      "text/plain": [
       "'<__main__.Vector object at 0x7fa18427ef28>'"
      ]
     },
     "execution_count": 40,
     "metadata": {},
     "output_type": "execute_result"
    }
   ],
   "source": [
    "vector = Vector(1, 2, 'red')\n",
    "str(vector)"
   ]
  },
  {
   "cell_type": "code",
   "execution_count": 41,
   "metadata": {},
   "outputs": [],
   "source": [
    "class VectorWithStr(Vector):\n",
    "    def __str__(self):\n",
    "        return 'vector ({}, {}) of color {}'.format(self._x, self._y, self._color)"
   ]
  },
  {
   "cell_type": "code",
   "execution_count": 42,
   "metadata": {},
   "outputs": [
    {
     "name": "stdout",
     "output_type": "stream",
     "text": [
      "initializing a vector\n"
     ]
    },
    {
     "data": {
      "text/plain": [
       "'vector (1, 2) of color red'"
      ]
     },
     "execution_count": 42,
     "metadata": {},
     "output_type": "execute_result"
    }
   ],
   "source": [
    "vector = VectorWithStr(1, 2, 'red')\n",
    "str(vector)"
   ]
  },
  {
   "cell_type": "code",
   "execution_count": 43,
   "metadata": {},
   "outputs": [
    {
     "name": "stdout",
     "output_type": "stream",
     "text": [
      "vector (1, 2) of color red\n"
     ]
    }
   ],
   "source": [
    "print(vector)"
   ]
  },
  {
   "cell_type": "code",
   "execution_count": 44,
   "metadata": {},
   "outputs": [
    {
     "name": "stdout",
     "output_type": "stream",
     "text": [
      "OBJECT: vector (1, 2) of color red\n"
     ]
    }
   ],
   "source": [
    "print(\"OBJECT: {}\".format(vector))"
   ]
  },
  {
   "cell_type": "code",
   "execution_count": 45,
   "metadata": {},
   "outputs": [
    {
     "name": "stdout",
     "output_type": "stream",
     "text": [
      "[<__main__.VectorWithStr object at 0x7fa18427e780>]\n"
     ]
    }
   ],
   "source": [
    "mylist = [vector]\n",
    "print(mylist)"
   ]
  },
  {
   "cell_type": "markdown",
   "metadata": {},
   "source": [
    "__Q:__ But we've already defined `__str__`...\n",
    "\n",
    "__A:__ There's two different methods in Python for string representations, designed to be human-readable (`__str__`) and machine-readable (`__repr__`). If `__str__` is not defined, `__repr__` is used instead."
   ]
  },
  {
   "cell_type": "code",
   "execution_count": 47,
   "metadata": {},
   "outputs": [],
   "source": [
    "class VectorWithRepr(Vector):\n",
    "    def __repr__(self):\n",
    "        return 'vector representation (x: {}, y: {}, color: {})'.format(self._x, self._y, self._color)"
   ]
  },
  {
   "cell_type": "code",
   "execution_count": 50,
   "metadata": {},
   "outputs": [
    {
     "name": "stdout",
     "output_type": "stream",
     "text": [
      "initializing a vector\n",
      "vector representation (x: 1, y: 2, color: red)\n",
      "[vector representation (x: 1, y: 2, color: red)]\n"
     ]
    }
   ],
   "source": [
    "vector = VectorWithRepr(1, 2, 'red')\n",
    "\n",
    "print(vector)\n",
    "mylist = [vector]\n",
    "print(mylist)"
   ]
  },
  {
   "cell_type": "code",
   "execution_count": 51,
   "metadata": {},
   "outputs": [],
   "source": [
    "class VectorWithBothReprAndStr(VectorWithRepr, VectorWithStr):\n",
    "    pass"
   ]
  },
  {
   "cell_type": "code",
   "execution_count": 53,
   "metadata": {},
   "outputs": [
    {
     "name": "stdout",
     "output_type": "stream",
     "text": [
      "initializing a vector\n",
      "vector (1, 2) of color red\n",
      "[vector representation (x: 1, y: 2, color: red)]\n"
     ]
    }
   ],
   "source": [
    "vector = VectorWithBothReprAndStr(1, 2, 'red')\n",
    "\n",
    "print(vector)\n",
    "print([vector])"
   ]
  },
  {
   "cell_type": "markdown",
   "metadata": {},
   "source": [
    "### 4.1 Arithmetics"
   ]
  },
  {
   "cell_type": "code",
   "execution_count": 54,
   "metadata": {},
   "outputs": [
    {
     "name": "stdout",
     "output_type": "stream",
     "text": [
      "__abs__ __add__ __and__ __bool__ __ceil__ __class__ __delattr__ __dir__ __divmod__ __doc__ __eq__ __float__ __floor__ __floordiv__ __format__ __ge__ __getattribute__ __getnewargs__ __gt__ __hash__ __index__ __init__ __init_subclass__ __int__ __invert__ __le__ __lshift__ __lt__ __mod__ __mul__ __ne__ __neg__ __new__ __or__ __pos__ __pow__ __radd__ __rand__ __rdivmod__ __reduce__ __reduce_ex__ __repr__ __rfloordiv__ __rlshift__ __rmod__ __rmul__ __ror__ __round__ __rpow__ __rrshift__ __rshift__ __rsub__ __rtruediv__ __rxor__ __setattr__ __sizeof__ __str__ __sub__ __subclasshook__ __truediv__ __trunc__ __xor__ bit_length conjugate denominator from_bytes imag numerator real to_bytes\n"
     ]
    }
   ],
   "source": [
    "print(*dir(1))"
   ]
  },
  {
   "cell_type": "code",
   "execution_count": 55,
   "metadata": {},
   "outputs": [],
   "source": [
    "import math\n",
    "import random\n",
    "\n",
    "class VectorWithMath(VectorWithBothReprAndStr):    \n",
    "    def __abs__(self):\n",
    "        return math.hypot(self._x, self._y)\n",
    "    \n",
    "    def __add__(self, other):\n",
    "        return VectorWithMath(self.get_x() + other.get_x(),\n",
    "                     self.get_y() + other.get_y(),\n",
    "                     random.choice((str(self._color), str(other._color))))\n",
    "    \n",
    "    def __sub__(self, other):\n",
    "        return VectorWithMath(self.get_x() - other.get_x(),\n",
    "                     self.get_y() - other.get_y(),\n",
    "                     random.choice((str(self._color), str(other._color))))\n",
    "    \n",
    "    # also div, mul, radd for += and many more"
   ]
  },
  {
   "cell_type": "code",
   "execution_count": 56,
   "metadata": {},
   "outputs": [
    {
     "name": "stdout",
     "output_type": "stream",
     "text": [
      "initializing a vector\n",
      "initializing a vector\n"
     ]
    }
   ],
   "source": [
    "vector1 = VectorWithMath(3, 4, 'blue')\n",
    "vector2 = VectorWithMath(1, 2, 'red')"
   ]
  },
  {
   "cell_type": "code",
   "execution_count": 57,
   "metadata": {},
   "outputs": [
    {
     "name": "stdout",
     "output_type": "stream",
     "text": [
      "5.0\n",
      "initializing a vector\n",
      "vector (4, 6) of color blue\n"
     ]
    }
   ],
   "source": [
    "print(abs(vector1))\n",
    "print(vector1 + vector2)"
   ]
  },
  {
   "cell_type": "markdown",
   "metadata": {},
   "source": [
    "### 4.2 Type casting"
   ]
  },
  {
   "cell_type": "code",
   "execution_count": 58,
   "metadata": {},
   "outputs": [],
   "source": [
    "class VectorWithTypes(VectorWithMath):\n",
    "    def __bool__(self):\n",
    "        return bool(self._x) or bool(self._y)\n",
    "    \n",
    "    def __int__(self):\n",
    "        return int(float(self))\n",
    "    \n",
    "    def __float__(self):\n",
    "        return abs(self)"
   ]
  },
  {
   "cell_type": "code",
   "execution_count": 59,
   "metadata": {},
   "outputs": [
    {
     "name": "stdout",
     "output_type": "stream",
     "text": [
      "initializing a vector\n",
      "vector (3, 4) of color blue\n",
      "5\n",
      "5.0\n",
      "vector ~ True\n"
     ]
    }
   ],
   "source": [
    "vector = VectorWithTypes(3, 4, 'blue')\n",
    "print(vector)\n",
    "print(int(vector))\n",
    "print(float(vector))\n",
    "if vector:\n",
    "    print(\"vector ~ True\")"
   ]
  },
  {
   "cell_type": "code",
   "execution_count": 61,
   "metadata": {},
   "outputs": [
    {
     "name": "stdout",
     "output_type": "stream",
     "text": [
      "initializing a vector\n",
      "vector (0, 0) of color None\n",
      "vector ~ False\n"
     ]
    }
   ],
   "source": [
    "vector = VectorWithTypes()\n",
    "print(vector)\n",
    "if not vector:\n",
    "    print(\"vector ~ False\")"
   ]
  },
  {
   "cell_type": "markdown",
   "metadata": {},
   "source": [
    "### 4.3 Iterable and container"
   ]
  },
  {
   "cell_type": "markdown",
   "metadata": {},
   "source": [
    "One way to make object iterable is to define method `__next__`. But Python has one more hack inside"
   ]
  },
  {
   "cell_type": "code",
   "execution_count": 62,
   "metadata": {},
   "outputs": [],
   "source": [
    "class VectorIterable(VectorWithTypes):\n",
    "    def __getitem__(self, position):\n",
    "        return (self._x, self._y)[position]\n",
    "    \n",
    "    def __len__(self):\n",
    "        return 2\n",
    "    \n",
    "    def __reversed__(self):\n",
    "        return (self._x, self._y)[::-1]\n",
    "    \n",
    "    def __contains__(self, value):\n",
    "        return value in (self._x, self._y)"
   ]
  },
  {
   "cell_type": "code",
   "execution_count": 63,
   "metadata": {},
   "outputs": [
    {
     "name": "stdout",
     "output_type": "stream",
     "text": [
      "initializing a vector\n"
     ]
    },
    {
     "ename": "IndexError",
     "evalue": "tuple index out of range",
     "output_type": "error",
     "traceback": [
      "\u001b[0;31m---------------------------------------------------------------------------\u001b[0m",
      "\u001b[0;31mIndexError\u001b[0m                                Traceback (most recent call last)",
      "\u001b[0;32m<ipython-input-63-753a3a4fcc12>\u001b[0m in \u001b[0;36m<module>\u001b[0;34m\u001b[0m\n\u001b[1;32m      1\u001b[0m \u001b[0mvector\u001b[0m \u001b[0;34m=\u001b[0m \u001b[0mVectorIterable\u001b[0m\u001b[0;34m(\u001b[0m\u001b[0;36m100\u001b[0m\u001b[0;34m,\u001b[0m \u001b[0;36m500\u001b[0m\u001b[0;34m)\u001b[0m\u001b[0;34m\u001b[0m\u001b[0;34m\u001b[0m\u001b[0m\n\u001b[1;32m      2\u001b[0m \u001b[0mvector\u001b[0m\u001b[0;34m[\u001b[0m\u001b[0;36m0\u001b[0m\u001b[0;34m]\u001b[0m\u001b[0;34m\u001b[0m\u001b[0;34m\u001b[0m\u001b[0m\n\u001b[0;32m----> 3\u001b[0;31m \u001b[0mvector\u001b[0m\u001b[0;34m[\u001b[0m\u001b[0;36m3\u001b[0m\u001b[0;34m]\u001b[0m\u001b[0;34m\u001b[0m\u001b[0;34m\u001b[0m\u001b[0m\n\u001b[0m",
      "\u001b[0;32m<ipython-input-62-f7ef5366d55a>\u001b[0m in \u001b[0;36m__getitem__\u001b[0;34m(self, position)\u001b[0m\n\u001b[1;32m      1\u001b[0m \u001b[0;32mclass\u001b[0m \u001b[0mVectorIterable\u001b[0m\u001b[0;34m(\u001b[0m\u001b[0mVectorWithTypes\u001b[0m\u001b[0;34m)\u001b[0m\u001b[0;34m:\u001b[0m\u001b[0;34m\u001b[0m\u001b[0;34m\u001b[0m\u001b[0m\n\u001b[1;32m      2\u001b[0m     \u001b[0;32mdef\u001b[0m \u001b[0m__getitem__\u001b[0m\u001b[0;34m(\u001b[0m\u001b[0mself\u001b[0m\u001b[0;34m,\u001b[0m \u001b[0mposition\u001b[0m\u001b[0;34m)\u001b[0m\u001b[0;34m:\u001b[0m\u001b[0;34m\u001b[0m\u001b[0;34m\u001b[0m\u001b[0m\n\u001b[0;32m----> 3\u001b[0;31m         \u001b[0;32mreturn\u001b[0m \u001b[0;34m(\u001b[0m\u001b[0mself\u001b[0m\u001b[0;34m.\u001b[0m\u001b[0m_x\u001b[0m\u001b[0;34m,\u001b[0m \u001b[0mself\u001b[0m\u001b[0;34m.\u001b[0m\u001b[0m_y\u001b[0m\u001b[0;34m)\u001b[0m\u001b[0;34m[\u001b[0m\u001b[0mposition\u001b[0m\u001b[0;34m]\u001b[0m\u001b[0;34m\u001b[0m\u001b[0;34m\u001b[0m\u001b[0m\n\u001b[0m\u001b[1;32m      4\u001b[0m \u001b[0;34m\u001b[0m\u001b[0m\n\u001b[1;32m      5\u001b[0m     \u001b[0;32mdef\u001b[0m \u001b[0m__len__\u001b[0m\u001b[0;34m(\u001b[0m\u001b[0mself\u001b[0m\u001b[0;34m)\u001b[0m\u001b[0;34m:\u001b[0m\u001b[0;34m\u001b[0m\u001b[0;34m\u001b[0m\u001b[0m\n",
      "\u001b[0;31mIndexError\u001b[0m: tuple index out of range"
     ]
    }
   ],
   "source": [
    "vector = VectorIterable(100, 500)\n",
    "vector[0]\n",
    "vector[3]"
   ]
  },
  {
   "cell_type": "code",
   "execution_count": 64,
   "metadata": {},
   "outputs": [
    {
     "name": "stdout",
     "output_type": "stream",
     "text": [
      "100\n",
      "500\n"
     ]
    }
   ],
   "source": [
    "for coordinate in vector:\n",
    "    print(coordinate)"
   ]
  },
  {
   "cell_type": "code",
   "execution_count": 66,
   "metadata": {},
   "outputs": [
    {
     "name": "stdout",
     "output_type": "stream",
     "text": [
      "500\n",
      "100\n"
     ]
    }
   ],
   "source": [
    "for coordinate in reversed(vector):\n",
    "    print(coordinate)"
   ]
  },
  {
   "cell_type": "code",
   "execution_count": 65,
   "metadata": {},
   "outputs": [
    {
     "name": "stdout",
     "output_type": "stream",
     "text": [
      "contains 100!\n"
     ]
    }
   ],
   "source": [
    "if 100 in vector:\n",
    "    print('contains 100!')"
   ]
  },
  {
   "cell_type": "markdown",
   "metadata": {},
   "source": [
    "### 4.4 Callable classes\n",
    "Oh, my... Sometimes you may want to have a \"function\" preserving its state somewhere inside between the calls, so it looks more like a class instance. Then we can make a callable class."
   ]
  },
  {
   "cell_type": "code",
   "execution_count": 102,
   "metadata": {},
   "outputs": [],
   "source": [
    "class VectorCallable(VectorIterable):\n",
    "    def __call__(self, *args):\n",
    "        return str(args)"
   ]
  },
  {
   "cell_type": "code",
   "execution_count": 103,
   "metadata": {},
   "outputs": [
    {
     "name": "stdout",
     "output_type": "stream",
     "text": [
      "initializing a vector\n",
      "False\n",
      "initializing a vector\n",
      "True\n"
     ]
    }
   ],
   "source": [
    "print(callable(VectorIterable()))\n",
    "print(callable(VectorCallable()))"
   ]
  },
  {
   "cell_type": "code",
   "execution_count": 104,
   "metadata": {},
   "outputs": [
    {
     "name": "stdout",
     "output_type": "stream",
     "text": [
      "initializing a vector\n"
     ]
    },
    {
     "data": {
      "text/plain": [
       "\"(1, 2, 'python3.6')\""
      ]
     },
     "execution_count": 104,
     "metadata": {},
     "output_type": "execute_result"
    }
   ],
   "source": [
    "vector = VectorCallable()\n",
    "vector(1, 2, 'python3.6')  # it behaves as a function!"
   ]
  },
  {
   "cell_type": "markdown",
   "metadata": {},
   "source": [
    "### 4.5 Attribute handling\n",
    "There is a way to manage access to attributes. Let's hack it!"
   ]
  },
  {
   "cell_type": "code",
   "execution_count": 67,
   "metadata": {},
   "outputs": [],
   "source": [
    "class VectorWithAllAttributes(VectorIterable):\n",
    "    def __getattr__(self, attr_name):\n",
    "        print('__getattr__ call')\n",
    "        return \"value of {}\".format(attr_name)\n",
    "    \n",
    "    def __getattribute__(self, attr_name):\n",
    "        print('__getattribute__ call')\n",
    "        return super().__getattribute__(attr_name)\n",
    "    \n",
    "    def __setattr__(self, attr_name, attr_value):\n",
    "        if attr_name not in ('_x', '_y', '_color'):\n",
    "            raise Exception('you shall not add new attributes here, young padawan!')\n",
    "        else:\n",
    "            super().__setattr__(attr_name, attr_value)\n",
    "            \n",
    "    def __delattr__(self, attr_name):\n",
    "        print('Heh, you can delete nothing')"
   ]
  },
  {
   "cell_type": "code",
   "execution_count": 68,
   "metadata": {},
   "outputs": [
    {
     "name": "stdout",
     "output_type": "stream",
     "text": [
      "initializing a vector\n",
      "__getattribute__ call\n",
      "__getattribute__ call\n",
      "['__abs__', '__add__', '__bool__', '__class__', '__contains__', '__delattr__', '__dict__', '__dir__', '__doc__', '__eq__', '__float__', '__format__', '__ge__', '__getattr__', '__getattribute__', '__getitem__', '__gt__', '__hash__', '__init__', '__init_subclass__', '__int__', '__le__', '__len__', '__lt__', '__module__', '__ne__', '__new__', '__reduce__', '__reduce_ex__', '__repr__', '__reversed__', '__setattr__', '__sizeof__', '__str__', '__sub__', '__subclasshook__', '__weakref__', '_color', '_x', '_y', 'get_x', 'get_y']\n"
     ]
    }
   ],
   "source": [
    "vector = VectorWithAllAttributes(1, 2, 'violet')\n",
    "print(dir(vector))"
   ]
  },
  {
   "cell_type": "code",
   "execution_count": 69,
   "metadata": {},
   "outputs": [
    {
     "name": "stdout",
     "output_type": "stream",
     "text": [
      "__getattribute__ call\n",
      "__getattr__ call\n",
      "value of some_attribute\n",
      "__getattribute__ call\n",
      "violet\n",
      "__getattribute__ call\n",
      "__getattribute__ call\n",
      "1\n"
     ]
    }
   ],
   "source": [
    "print(vector.some_attribute)\n",
    "print(vector._color)\n",
    "print(vector.get_x())"
   ]
  },
  {
   "cell_type": "code",
   "execution_count": 70,
   "metadata": {},
   "outputs": [
    {
     "ename": "Exception",
     "evalue": "you shall not add new attributes here, young padawan!",
     "output_type": "error",
     "traceback": [
      "\u001b[0;31m---------------------------------------------------------------------------\u001b[0m",
      "\u001b[0;31mException\u001b[0m                                 Traceback (most recent call last)",
      "\u001b[0;32m<ipython-input-70-8f1d7f8427cb>\u001b[0m in \u001b[0;36m<module>\u001b[0;34m\u001b[0m\n\u001b[0;32m----> 1\u001b[0;31m \u001b[0mvector\u001b[0m\u001b[0;34m.\u001b[0m\u001b[0mnew_attribute\u001b[0m \u001b[0;34m=\u001b[0m \u001b[0;34m\"value\"\u001b[0m\u001b[0;34m\u001b[0m\u001b[0;34m\u001b[0m\u001b[0m\n\u001b[0m",
      "\u001b[0;32m<ipython-input-67-90709d717e71>\u001b[0m in \u001b[0;36m__setattr__\u001b[0;34m(self, attr_name, attr_value)\u001b[0m\n\u001b[1;32m     10\u001b[0m     \u001b[0;32mdef\u001b[0m \u001b[0m__setattr__\u001b[0m\u001b[0;34m(\u001b[0m\u001b[0mself\u001b[0m\u001b[0;34m,\u001b[0m \u001b[0mattr_name\u001b[0m\u001b[0;34m,\u001b[0m \u001b[0mattr_value\u001b[0m\u001b[0;34m)\u001b[0m\u001b[0;34m:\u001b[0m\u001b[0;34m\u001b[0m\u001b[0;34m\u001b[0m\u001b[0m\n\u001b[1;32m     11\u001b[0m         \u001b[0;32mif\u001b[0m \u001b[0mattr_name\u001b[0m \u001b[0;32mnot\u001b[0m \u001b[0;32min\u001b[0m \u001b[0;34m(\u001b[0m\u001b[0;34m'_x'\u001b[0m\u001b[0;34m,\u001b[0m \u001b[0;34m'_y'\u001b[0m\u001b[0;34m,\u001b[0m \u001b[0;34m'_color'\u001b[0m\u001b[0;34m)\u001b[0m\u001b[0;34m:\u001b[0m\u001b[0;34m\u001b[0m\u001b[0;34m\u001b[0m\u001b[0m\n\u001b[0;32m---> 12\u001b[0;31m             \u001b[0;32mraise\u001b[0m \u001b[0mException\u001b[0m\u001b[0;34m(\u001b[0m\u001b[0;34m'you shall not add new attributes here, young padawan!'\u001b[0m\u001b[0;34m)\u001b[0m\u001b[0;34m\u001b[0m\u001b[0;34m\u001b[0m\u001b[0m\n\u001b[0m\u001b[1;32m     13\u001b[0m         \u001b[0;32melse\u001b[0m\u001b[0;34m:\u001b[0m\u001b[0;34m\u001b[0m\u001b[0;34m\u001b[0m\u001b[0m\n\u001b[1;32m     14\u001b[0m             \u001b[0msuper\u001b[0m\u001b[0;34m(\u001b[0m\u001b[0;34m)\u001b[0m\u001b[0;34m.\u001b[0m\u001b[0m__setattr__\u001b[0m\u001b[0;34m(\u001b[0m\u001b[0mattr_name\u001b[0m\u001b[0;34m,\u001b[0m \u001b[0mattr_value\u001b[0m\u001b[0;34m)\u001b[0m\u001b[0;34m\u001b[0m\u001b[0;34m\u001b[0m\u001b[0m\n",
      "\u001b[0;31mException\u001b[0m: you shall not add new attributes here, young padawan!"
     ]
    }
   ],
   "source": [
    "vector.new_attribute = \"value\""
   ]
  },
  {
   "cell_type": "code",
   "execution_count": 71,
   "metadata": {},
   "outputs": [
    {
     "name": "stdout",
     "output_type": "stream",
     "text": [
      "Heh, you can delete nothing\n",
      "__getattribute__ call\n",
      "violet\n"
     ]
    }
   ],
   "source": [
    "delattr(vector, '_color')\n",
    "print(vector._color)"
   ]
  },
  {
   "cell_type": "markdown",
   "metadata": {},
   "source": [
    "### 4.6 Context managers\n",
    "It shoud be your only way for working with resourses (files, streams, sockets, etc), when you really have to close it somewhere at the end"
   ]
  },
  {
   "cell_type": "code",
   "execution_count": null,
   "metadata": {},
   "outputs": [],
   "source": [
    "with open('input.txt') as f:  # here we open the resourse\n",
    "    pass\n",
    "# ...and here we implicitly close it even in case of exception"
   ]
  },
  {
   "cell_type": "code",
   "execution_count": 77,
   "metadata": {},
   "outputs": [],
   "source": [
    "class VectorWithContextManager(VectorWithAllAttributes):\n",
    "    def __enter__(self):\n",
    "        print('entering context')\n",
    "        return self\n",
    "    \n",
    "    def __exit__(self, *args):\n",
    "        print(args)\n",
    "        print('leaving context')"
   ]
  },
  {
   "cell_type": "code",
   "execution_count": 79,
   "metadata": {},
   "outputs": [
    {
     "name": "stdout",
     "output_type": "stream",
     "text": [
      "initializing a vector\n",
      "entering context\n",
      "__getattribute__ call\n",
      "__getattribute__ call\n",
      "1\n",
      "__getattribute__ call\n",
      "__getattribute__ call\n",
      "-1\n",
      "(<class 'Exception'>, Exception('something happened inside!',), <traceback object at 0x7fa18426d948>)\n",
      "leaving context\n",
      "an exception was raised...\n",
      "we are out of the context\n"
     ]
    }
   ],
   "source": [
    "try:\n",
    "    with VectorWithContextManager(1, -1) as vec:\n",
    "        for i in range(2):\n",
    "            print(vec[i])\n",
    "        raise Exception('something happened inside!')\n",
    "except Exception:\n",
    "    print('an exception was raised...')\n",
    "    pass\n",
    "print('we are out of the context')"
   ]
  },
  {
   "cell_type": "markdown",
   "metadata": {},
   "source": [
    "But there's also a simpler way, using a special generator function!"
   ]
  },
  {
   "cell_type": "code",
   "execution_count": 80,
   "metadata": {},
   "outputs": [
    {
     "name": "stdout",
     "output_type": "stream",
     "text": [
      "statement before context\n",
      "handling entering the context\n",
      "initializing a vector\n",
      "<__main__.Vector object at 0x7fa18421c3c8>\n",
      "handling leaving the context\n",
      "statement after context\n"
     ]
    }
   ],
   "source": [
    "from contextlib import contextmanager\n",
    "\n",
    "@contextmanager\n",
    "def vector_mgr():\n",
    "    print('handling entering the context')\n",
    "    yield Vector()\n",
    "    print('handling leaving the context')\n",
    "          \n",
    "print('statement before context')\n",
    "with vector_mgr() as vector:\n",
    "    print(vector)\n",
    "print('statement after context')"
   ]
  },
  {
   "cell_type": "markdown",
   "metadata": {},
   "source": [
    "### 4.7 Construction and destruction\n",
    "Remember: `__init__` is not a constructor! It's initializing method."
   ]
  },
  {
   "cell_type": "code",
   "execution_count": 86,
   "metadata": {},
   "outputs": [],
   "source": [
    "class VectorInitialized(VectorWithContextManager):\n",
    "    def __new__(cls, *args, **kwargs):\n",
    "        print('invoking __new__ method')\n",
    "        print(cls, args, kwargs)\n",
    "        return object.__new__(cls)\n",
    "    \n",
    "    def __del__(self):\n",
    "        print('deleting an object')\n",
    "        raise Exception(\"exception while destructing\")  # this one will be ignored!"
   ]
  },
  {
   "cell_type": "code",
   "execution_count": 87,
   "metadata": {},
   "outputs": [
    {
     "name": "stdout",
     "output_type": "stream",
     "text": [
      "invoking __new__ method\n",
      "<class '__main__.VectorInitialized'> (1, 2) {'color': 'navy blue'}\n",
      "initializing a vector\n",
      "deleting an object\n",
      "__getattribute__ call\n",
      "__getattribute__ call\n",
      "__getattribute__ call\n",
      "__getattribute__ call\n",
      "__getattribute__ call\n",
      "__getattribute__ call\n",
      "vector (1, 2) of color navy blue\n"
     ]
    },
    {
     "name": "stderr",
     "output_type": "stream",
     "text": [
      "Exception ignored in: <bound method VectorInitialized.__del__ of vector representation (x: 1, y: 2, color: navy blue)>\n",
      "Traceback (most recent call last):\n",
      "  File \"<ipython-input-81-d136fc659a36>\", line 9, in __del__\n",
      "Exception: exception while destructing\n"
     ]
    }
   ],
   "source": [
    "vector = VectorInitialized(1, 2, color='navy blue')\n",
    "print(vector)"
   ]
  },
  {
   "cell_type": "code",
   "execution_count": 88,
   "metadata": {},
   "outputs": [
    {
     "name": "stdout",
     "output_type": "stream",
     "text": [
      "deleting an object\n",
      "__getattribute__ call\n",
      "__getattribute__ call\n",
      "__getattribute__ call\n"
     ]
    },
    {
     "name": "stderr",
     "output_type": "stream",
     "text": [
      "Exception ignored in: <bound method VectorInitialized.__del__ of vector representation (x: 1, y: 2, color: navy blue)>\n",
      "Traceback (most recent call last):\n",
      "  File \"<ipython-input-86-d136fc659a36>\", line 9, in __del__\n",
      "Exception: exception while destructing\n"
     ]
    }
   ],
   "source": [
    "del vector"
   ]
  },
  {
   "cell_type": "markdown",
   "metadata": {},
   "source": [
    "### An excercise! \n",
    "\n",
    "How do we make a singltone out of our object using `__new__`? Can we also handle an object deletion (delete and create one more singleton afterwards?)\n",
    "\n",
    "**Reminder**: a singleton class is the class existing in no more than one instance"
   ]
  },
  {
   "cell_type": "code",
   "execution_count": null,
   "metadata": {
    "collapsed": true
   },
   "outputs": [],
   "source": [
    "class SingletonClass:\n",
    "    ...your code here...\n",
    "    def __new__(cls, *args, **kwargs):\n",
    "        ...your code here...\n",
    "\n",
    "obj1 = SingletonClass()\n",
    "obj2 = SingletonClass()\n",
    "assert id(obj1) == id(obj2)"
   ]
  },
  {
   "cell_type": "markdown",
   "metadata": {},
   "source": [
    "### 5. Iterables and generators: reminder\n",
    "\n",
    "Strictly saying:\n",
    "\n",
    "1. Iterator is an object with defined `__iter__` и `next`.\n",
    "\n",
    "2. Generator is the value of the generator function that... generates something using `yield` statement. It's a quick way to build an iterator.\n",
    "\n",
    "3. Generator is an iterator. The opposite is not true. \n",
    "\n",
    "4. Iterable is anything we can iterate through. List is not an iterator but it's iterable. Every iterator is iterable.\n",
    "\n",
    "Typical iterator object below:"
   ]
  },
  {
   "cell_type": "code",
   "execution_count": 90,
   "metadata": {},
   "outputs": [],
   "source": [
    "class my_range_iterator:\n",
    "    def __init__(self, n_max):\n",
    "        self.i = 0\n",
    "        self.n_max = n_max\n",
    "\n",
    "    def __iter__(self):\n",
    "        # iter must return an iterator, so iterator returns just itself\n",
    "        return self\n",
    "\n",
    "    def __next__(self):\n",
    "        if self.i < self.n_max:\n",
    "            i = self.i\n",
    "            self.i += 1\n",
    "            return i\n",
    "        else:\n",
    "            # that means `I'm out of the game, nothing left inside`\n",
    "            raise StopIteration()"
   ]
  },
  {
   "cell_type": "code",
   "execution_count": 91,
   "metadata": {},
   "outputs": [
    {
     "name": "stdout",
     "output_type": "stream",
     "text": [
      "0\n",
      "1\n",
      "2\n"
     ]
    },
    {
     "ename": "StopIteration",
     "evalue": "",
     "output_type": "error",
     "traceback": [
      "\u001b[0;31m---------------------------------------------------------------------------\u001b[0m",
      "\u001b[0;31mStopIteration\u001b[0m                             Traceback (most recent call last)",
      "\u001b[0;32m<ipython-input-91-4e8293f4944d>\u001b[0m in \u001b[0;36m<module>\u001b[0;34m\u001b[0m\n\u001b[1;32m      3\u001b[0m \u001b[0mprint\u001b[0m\u001b[0;34m(\u001b[0m\u001b[0miterator_obj\u001b[0m\u001b[0;34m.\u001b[0m\u001b[0m__next__\u001b[0m\u001b[0;34m(\u001b[0m\u001b[0;34m)\u001b[0m\u001b[0;34m)\u001b[0m\u001b[0;34m\u001b[0m\u001b[0;34m\u001b[0m\u001b[0m\n\u001b[1;32m      4\u001b[0m \u001b[0mprint\u001b[0m\u001b[0;34m(\u001b[0m\u001b[0miterator_obj\u001b[0m\u001b[0;34m.\u001b[0m\u001b[0m__next__\u001b[0m\u001b[0;34m(\u001b[0m\u001b[0;34m)\u001b[0m\u001b[0;34m)\u001b[0m\u001b[0;34m\u001b[0m\u001b[0;34m\u001b[0m\u001b[0m\n\u001b[0;32m----> 5\u001b[0;31m \u001b[0mprint\u001b[0m\u001b[0;34m(\u001b[0m\u001b[0miterator_obj\u001b[0m\u001b[0;34m.\u001b[0m\u001b[0m__next__\u001b[0m\u001b[0;34m(\u001b[0m\u001b[0;34m)\u001b[0m\u001b[0;34m)\u001b[0m\u001b[0;34m\u001b[0m\u001b[0;34m\u001b[0m\u001b[0m\n\u001b[0m\u001b[1;32m      6\u001b[0m \u001b[0mprint\u001b[0m\u001b[0;34m(\u001b[0m\u001b[0miterator_obj\u001b[0m\u001b[0;34m.\u001b[0m\u001b[0m__next__\u001b[0m\u001b[0;34m(\u001b[0m\u001b[0;34m)\u001b[0m\u001b[0;34m)\u001b[0m\u001b[0;34m\u001b[0m\u001b[0;34m\u001b[0m\u001b[0m\n",
      "\u001b[0;32m<ipython-input-90-f7f6ba1fa3c0>\u001b[0m in \u001b[0;36m__next__\u001b[0;34m(self)\u001b[0m\n\u001b[1;32m     15\u001b[0m         \u001b[0;32melse\u001b[0m\u001b[0;34m:\u001b[0m\u001b[0;34m\u001b[0m\u001b[0;34m\u001b[0m\u001b[0m\n\u001b[1;32m     16\u001b[0m             \u001b[0;31m# that means `I'm out of the game, nothing left inside`\u001b[0m\u001b[0;34m\u001b[0m\u001b[0;34m\u001b[0m\u001b[0;34m\u001b[0m\u001b[0m\n\u001b[0;32m---> 17\u001b[0;31m             \u001b[0;32mraise\u001b[0m \u001b[0mStopIteration\u001b[0m\u001b[0;34m(\u001b[0m\u001b[0;34m)\u001b[0m\u001b[0;34m\u001b[0m\u001b[0;34m\u001b[0m\u001b[0m\n\u001b[0m",
      "\u001b[0;31mStopIteration\u001b[0m: "
     ]
    }
   ],
   "source": [
    "iterator_obj = my_range_iterator(3)\n",
    "print(iterator_obj.__next__())\n",
    "print(iterator_obj.__next__())\n",
    "print(iterator_obj.__next__())\n",
    "print(iterator_obj.__next__())\n",
    "print(iterator_obj.__next__())"
   ]
  },
  {
   "cell_type": "markdown",
   "metadata": {},
   "source": [
    "__Q:__ We don't have to catch the exceptions, right?\n",
    "\n",
    "__A:__ That's non-pythonic way. Pythonic way is below:"
   ]
  },
  {
   "cell_type": "code",
   "execution_count": 92,
   "metadata": {},
   "outputs": [
    {
     "name": "stdout",
     "output_type": "stream",
     "text": [
      "<class '__main__.my_range_iterator'>\n",
      "0\n",
      "1\n",
      "2\n"
     ]
    }
   ],
   "source": [
    "iterator_obj = my_range_iterator(3)\n",
    "print(type(iterator_obj))\n",
    "for x in iterator_obj:\n",
    "    print(x)"
   ]
  },
  {
   "cell_type": "code",
   "execution_count": 93,
   "metadata": {},
   "outputs": [],
   "source": [
    "for x in iterator_obj:\n",
    "    print(x)"
   ]
  },
  {
   "cell_type": "markdown",
   "metadata": {},
   "source": [
    "__Q:__ Is it.. exhausted?\n",
    "\n",
    "__A:__ Iterator keeps its state inside. So it knows we ran out of elements."
   ]
  },
  {
   "cell_type": "markdown",
   "metadata": {},
   "source": [
    "Let's prove the generator is an iterator inside!"
   ]
  },
  {
   "cell_type": "code",
   "execution_count": 96,
   "metadata": {},
   "outputs": [],
   "source": [
    "def my_range_generator(n_max):\n",
    "    i = 0\n",
    "    while i < n_max:\n",
    "        yield i\n",
    "        i += 1"
   ]
  },
  {
   "cell_type": "code",
   "execution_count": 97,
   "metadata": {},
   "outputs": [
    {
     "name": "stdout",
     "output_type": "stream",
     "text": [
      "<class 'generator'>\n",
      "<method-wrapper '__iter__' of generator object at 0x7fa184225a40>\n",
      "<generator object my_range_generator at 0x7fa184225a40>\n",
      "<method-wrapper '__next__' of generator object at 0x7fa184225a40>\n"
     ]
    }
   ],
   "source": [
    "generator_obj = my_range_generator(3)\n",
    "print(type(generator_obj))\n",
    "\n",
    "print(generator_obj.__iter__)\n",
    "print(generator_obj.__iter__())\n",
    "print(generator_obj.__next__)"
   ]
  },
  {
   "cell_type": "code",
   "execution_count": 98,
   "metadata": {},
   "outputs": [
    {
     "name": "stdout",
     "output_type": "stream",
     "text": [
      "0\n",
      "1\n",
      "2\n"
     ]
    }
   ],
   "source": [
    "for x in generator_obj:\n",
    "    print(x)"
   ]
  },
  {
   "cell_type": "code",
   "execution_count": 99,
   "metadata": {},
   "outputs": [],
   "source": [
    "for x in generator_obj:\n",
    "    print(x)"
   ]
  },
  {
   "cell_type": "markdown",
   "metadata": {},
   "source": [
    "__Q:__ Which way is better? Class-based or using generator function?\n",
    "\n",
    "__A:__ It behaves identically, so it depends on your case"
   ]
  },
  {
   "cell_type": "code",
   "execution_count": 100,
   "metadata": {},
   "outputs": [
    {
     "name": "stdout",
     "output_type": "stream",
     "text": [
      "10\n",
      "10\n"
     ]
    }
   ],
   "source": [
    "print(sum(my_range_generator(5)))\n",
    "print(sum(my_range_iterator(5)))"
   ]
  },
  {
   "cell_type": "code",
   "execution_count": null,
   "metadata": {},
   "outputs": [],
   "source": []
  }
 ],
 "metadata": {
  "kernelspec": {
   "display_name": "Python 3",
   "language": "python",
   "name": "python3"
  },
  "language_info": {
   "codemirror_mode": {
    "name": "ipython",
    "version": 3
   },
   "file_extension": ".py",
   "mimetype": "text/x-python",
   "name": "python",
   "nbconvert_exporter": "python",
   "pygments_lexer": "ipython3",
   "version": "3.6.7"
  }
 },
 "nbformat": 4,
 "nbformat_minor": 2
}
