{
 "cells": [
  {
   "cell_type": "markdown",
   "metadata": {},
   "source": [
    "# Python3\n",
    "\n",
    "Question: https://bash.im/quote/436280\n",
    "\n",
    "Answer: https://pythonclock.org/\n",
    "\n",
    "## Notes on seminars 1-3 (intro & data types)"
   ]
  },
  {
   "cell_type": "code",
   "execution_count": 1,
   "metadata": {},
   "outputs": [
    {
     "name": "stdout",
     "output_type": "stream",
     "text": [
      "The Zen of Python, by Tim Peters\n",
      "\n",
      "Beautiful is better than ugly.\n",
      "Explicit is better than implicit.\n",
      "Simple is better than complex.\n",
      "Complex is better than complicated.\n",
      "Flat is better than nested.\n",
      "Sparse is better than dense.\n",
      "Readability counts.\n",
      "Special cases aren't special enough to break the rules.\n",
      "Although practicality beats purity.\n",
      "Errors should never pass silently.\n",
      "Unless explicitly silenced.\n",
      "In the face of ambiguity, refuse the temptation to guess.\n",
      "There should be one-- and preferably only one --obvious way to do it.\n",
      "Although that way may not be obvious at first unless you're Dutch.\n",
      "Now is better than never.\n",
      "Although never is often better than *right* now.\n",
      "If the implementation is hard to explain, it's a bad idea.\n",
      "If the implementation is easy to explain, it may be a good idea.\n",
      "Namespaces are one honking great idea -- let's do more of those!\n"
     ]
    }
   ],
   "source": [
    "import this"
   ]
  },
  {
   "cell_type": "code",
   "execution_count": 2,
   "metadata": {},
   "outputs": [],
   "source": [
    "python_types = {}"
   ]
  },
  {
   "cell_type": "markdown",
   "metadata": {},
   "source": [
    "## 1. Numeric types"
   ]
  },
  {
   "cell_type": "markdown",
   "metadata": {},
   "source": [
    "### 1.1 Integer type: int\n",
    "Limited only by your imagination (and RAM size)"
   ]
  },
  {
   "cell_type": "code",
   "execution_count": 3,
   "metadata": {},
   "outputs": [
    {
     "name": "stdout",
     "output_type": "stream",
     "text": [
      "831 + 4 = 835\n",
      "831 - 4 = 827\n",
      "831 * 4 = 3324\n",
      "831 / 4 = 207.75\n",
      "831 // 4 = 207\n",
      "831 % 4 = 3\n",
      "831 ** 4 = 476874494721\n",
      "4 ** 0.5 = 2.0\n",
      "831 ** 4 ** 4 = 2617351729839640187200068138970272629714224334820635258976251712143009106052784332856054368442523694326458036744414925215940793540900257126626378662568800667790572343089069550299409441559843855534547193136164188351571724758906734826303729955714803630910453734516118167862449695219580941975909481689596384800846833317871519610436454046356169406372713973194237734813553074599555353699242008342943064208916078907144456074778901590065262871891001754424935718908174299535187844616178774208441485491438941604879559403510347796681518063034871555809177301664571382394514160278015452569999362374345870192527610507283288987266959244635168251681051775672016732484374099942295208770732329692857802087399895395010765700394886245510337168009786741436062115348481\n"
     ]
    }
   ],
   "source": [
    "a = 831\n",
    "b = 4\n",
    "\n",
    "print(a, '+', b, '=', a + b)\n",
    "print(a, '-', b, '=', a - b)\n",
    "print(a, '*', b, '=', a * b)\n",
    "print(a, '/', b, '=', a / b)\n",
    "\n",
    "print(a, '//', b, '=', a // b)\n",
    "print(a, '%', b, '=', a % b)\n",
    "\n",
    "print(a, '**', b, '=', a ** b)\n",
    "print(b, '**', .5, '=', b ** .5)              # equals math.sqrt(b)\n",
    "print(a, '**', b, '**', b, '=', a ** b ** b)  # equals a ** (b ** b). A huge number, huh?"
   ]
  },
  {
   "cell_type": "markdown",
   "metadata": {},
   "source": [
    "Small integers don't create a new object in a current CPython realization.\n",
    "\n",
    "A little joke on that: https://docs.python.org/3/c-api/long.html#c.PyLong_FromLong"
   ]
  },
  {
   "cell_type": "code",
   "execution_count": 4,
   "metadata": {},
   "outputs": [
    {
     "name": "stdout",
     "output_type": "stream",
     "text": [
      "Values:\t 5 5\n",
      "IDs:\t 10910528 10910528\n",
      "Values:\t 257 257\n",
      "IDs:\t 139809864132528 139809864132592\n"
     ]
    }
   ],
   "source": [
    "a = 5\n",
    "b = 5\n",
    "print('Values:\\t', a, b)\n",
    "print('IDs:\\t', id(a), id(b))\n",
    "\n",
    "a = 257\n",
    "b = 257\n",
    "print('Values:\\t', a, b)\n",
    "print('IDs:\\t', id(a), id(b))"
   ]
  },
  {
   "cell_type": "code",
   "execution_count": 5,
   "metadata": {},
   "outputs": [
    {
     "name": "stdout",
     "output_type": "stream",
     "text": [
      "Types: {<class 'int'>: 257}\n"
     ]
    }
   ],
   "source": [
    "python_types[type(a)] = a\n",
    "print('Types:', python_types)"
   ]
  },
  {
   "cell_type": "markdown",
   "metadata": {},
   "source": [
    "### 1.2 Floating point type: float\n",
    "Is 'not-a-number' actually a number?"
   ]
  },
  {
   "cell_type": "code",
   "execution_count": 6,
   "metadata": {},
   "outputs": [
    {
     "name": "stdout",
     "output_type": "stream",
     "text": [
      ".5 equals 0.5\n",
      "5. equals 5.0\n",
      "0.5 + 5.0 = 5.5\n",
      "0.5 - 5.0 = -4.5\n",
      "0.5 * 5.0 = 2.5\n",
      "0.5 / 5.0 = 0.1\n",
      "0.5 ** 5.0 = 0.03125\n",
      "5.0 ** 0.5 = 2.23606797749979\n"
     ]
    }
   ],
   "source": [
    "a = .5\n",
    "b = 5.\n",
    "\n",
    "# you may omit trailing or leading zeros\n",
    "print('.5 equals', a)\n",
    "print('5. equals', b)\n",
    "\n",
    "print(a, '+', b, '=', a + b)\n",
    "print(a, '-', b, '=', a - b)\n",
    "print(a, '*', b, '=', a * b)\n",
    "print(a, '/', b, '=', a / b)\n",
    "\n",
    "print(a, '**', b, '=', a ** b)\n",
    "print(b, '**', .5, '=', b ** .5)"
   ]
  },
  {
   "cell_type": "code",
   "execution_count": 7,
   "metadata": {},
   "outputs": [
    {
     "name": "stdout",
     "output_type": "stream",
     "text": [
      "Types: {<class 'int'>: 257, <class 'float'>: 0.5}\n"
     ]
    }
   ],
   "source": [
    "python_types[type(a)] = a\n",
    "print('Types:', python_types)"
   ]
  },
  {
   "cell_type": "markdown",
   "metadata": {},
   "source": [
    "You can still use the same arithmetic operators, but the result will always be float:"
   ]
  },
  {
   "cell_type": "code",
   "execution_count": 8,
   "metadata": {},
   "outputs": [
    {
     "name": "stdout",
     "output_type": "stream",
     "text": [
      "-0.3 // 5.5 = -1.0\n",
      "<class 'float'>\n",
      "-0.3 % 5.5 = 5.2\n"
     ]
    }
   ],
   "source": [
    "a = -0.3\n",
    "b = 5.5\n",
    "\n",
    "print(a, '//', b, '=', a // b)\n",
    "print(type(a // b))\n",
    "\n",
    "print(a, '%', b, '=', a % b)  # even here!"
   ]
  },
  {
   "cell_type": "markdown",
   "metadata": {},
   "source": [
    "Rounding behaviour is not _always_ obvious:\n",
    "\n",
    "https://stackoverflow.com/questions/10825926/python-3-x-rounding-behavior"
   ]
  },
  {
   "cell_type": "code",
   "execution_count": 9,
   "metadata": {},
   "outputs": [
    {
     "name": "stdout",
     "output_type": "stream",
     "text": [
      "-0.3 : 0\n",
      " 0.3 : 0\n",
      "-0.6 : -1\n",
      " 0.6 : 1\n",
      "\n",
      "-3.5 : -4\n",
      "-2.5 : -2\n",
      "-1.5 : -2\n",
      "-0.5 : 0\n",
      "0.5 : 0\n",
      "1.5 : 2\n",
      "2.5 : 2\n",
      "3.5 : 4\n"
     ]
    }
   ],
   "source": [
    "print('-0.3 :', round(-0.3))\n",
    "print(' 0.3 :', round(0.3))\n",
    "print('-0.6 :', round(-0.6))\n",
    "print(' 0.6 :', round(0.6))\n",
    "print()\n",
    "\n",
    "for i in range(-4, 4):\n",
    "    print(i + .5, ':', round(i + .5))"
   ]
  },
  {
   "cell_type": "markdown",
   "metadata": {},
   "source": [
    "Comparing integers with floats:"
   ]
  },
  {
   "cell_type": "code",
   "execution_count": 10,
   "metadata": {},
   "outputs": [
    {
     "name": "stdout",
     "output_type": "stream",
     "text": [
      "5 <class 'int'> 10910528\n",
      "5.0 <class 'float'> 139809864037384\n",
      "\n",
      "5 == 5.0 : True\n"
     ]
    }
   ],
   "source": [
    "a = 5\n",
    "b = 5.\n",
    "\n",
    "print(a, type(a), id(a))\n",
    "print(b, type(b), id(b))\n",
    "print()\n",
    "# types and object ids do not match, but still...\n",
    "print(a, '==', b, ':', a == b)"
   ]
  },
  {
   "cell_type": "markdown",
   "metadata": {},
   "source": [
    "Built-in infinities, yaaaay!"
   ]
  },
  {
   "cell_type": "code",
   "execution_count": 11,
   "metadata": {},
   "outputs": [
    {
     "name": "stdout",
     "output_type": "stream",
     "text": [
      "inf is:  <class 'float'>\n",
      "\n",
      "inf / inf = nan\n",
      "nan is:  <class 'float'>\n",
      "\n",
      "inf * -inf = -inf\n",
      "inf * 42 = inf\n",
      "inf * 0 = nan\n"
     ]
    }
   ],
   "source": [
    "inf1 = float('inf')\n",
    "inf2 = float('-inf')\n",
    "\n",
    "print('inf is: ', type(inf1))\n",
    "print()\n",
    "print('inf / inf =', inf1 / inf1)  # nan stands for `Not A Number`\n",
    "print('nan is: ', type(inf1 / inf1))\n",
    "print()\n",
    "print('inf * -inf =', inf1 * inf2)\n",
    "print('inf * 42 =', inf1 * 42)\n",
    "print('inf * 0 =', inf1 * 0)"
   ]
  },
  {
   "cell_type": "markdown",
   "metadata": {},
   "source": [
    "### 1.3 Boolean type: bool\n",
    "\n",
    "Hey man, why it is in numeric types section?!"
   ]
  },
  {
   "cell_type": "markdown",
   "metadata": {},
   "source": [
    "https://bash.im/quote/395688"
   ]
  },
  {
   "cell_type": "code",
   "execution_count": 12,
   "metadata": {},
   "outputs": [
    {
     "name": "stdout",
     "output_type": "stream",
     "text": [
      "10\n",
      "0\n"
     ]
    }
   ],
   "source": [
    "print(True * 10)\n",
    "print(False // 2)"
   ]
  },
  {
   "cell_type": "markdown",
   "metadata": {},
   "source": [
    "So what's the difference between True and 1?"
   ]
  },
  {
   "cell_type": "code",
   "execution_count": 13,
   "metadata": {},
   "outputs": [
    {
     "name": "stdout",
     "output_type": "stream",
     "text": [
      "\tTrue\t\t1\n",
      "id\t10299104\t10910400\n",
      "hash\t1\t\t1\n",
      "type\t<class 'bool'>\t<class 'int'>\n",
      "to int\t1\t\t1\n",
      "to bool\tTrue\t\tTrue\n"
     ]
    }
   ],
   "source": [
    "print('\\tTrue\\t\\t1')\n",
    "print('id\\t', id(True), '\\t', id(1), sep='')\n",
    "print('hash\\t', hash(True), '\\t\\t', hash(1), sep='')\n",
    "print('type\\t', type(True), '\\t', type(1), sep='')\n",
    "print('to int\\t', int(True), '\\t\\t', int(1), sep='')\n",
    "print('to bool\\t', bool(True), '\\t\\t', bool(1), sep='')"
   ]
  },
  {
   "cell_type": "markdown",
   "metadata": {},
   "source": [
    "Don't ever try doing things like this in real code. Please. Please!"
   ]
  },
  {
   "cell_type": "code",
   "execution_count": 14,
   "metadata": {},
   "outputs": [
    {
     "name": "stdout",
     "output_type": "stream",
     "text": [
      "1\n",
      "0\n",
      "832\n"
     ]
    }
   ],
   "source": [
    "print(True ** False)\n",
    "print(False ** True)\n",
    "print(True + 831)"
   ]
  },
  {
   "cell_type": "code",
   "execution_count": 15,
   "metadata": {},
   "outputs": [
    {
     "name": "stdout",
     "output_type": "stream",
     "text": [
      "Types: {<class 'int'>: 257, <class 'float'>: 0.5, <class 'bool'>: True}\n"
     ]
    }
   ],
   "source": [
    "python_types[type(True)] = True\n",
    "print('Types:', python_types)"
   ]
  },
  {
   "cell_type": "markdown",
   "metadata": {},
   "source": [
    "## 2. Mutable containers"
   ]
  },
  {
   "cell_type": "markdown",
   "metadata": {},
   "source": [
    "### 2.1 List: list\n",
    "The list is not what it seems..."
   ]
  },
  {
   "cell_type": "code",
   "execution_count": 16,
   "metadata": {},
   "outputs": [
    {
     "name": "stdout",
     "output_type": "stream",
     "text": [
      "[1, [True, 'python'], <built-in function print>]\n"
     ]
    }
   ],
   "source": [
    "l = []\n",
    "l.append(1)\n",
    "l.append([True, 'python'])\n",
    "l.append(print)\n",
    "\n",
    "print(l)"
   ]
  },
  {
   "cell_type": "code",
   "execution_count": 17,
   "metadata": {},
   "outputs": [
    {
     "name": "stdout",
     "output_type": "stream",
     "text": [
      "[2019, [True, 'python'], <built-in function print>]\n",
      "[2019, [True, 'python'], <built-in function print>]\n",
      "139809863950600 139809863950600\n"
     ]
    }
   ],
   "source": [
    "l2 = l\n",
    "l2[0] = 2019\n",
    "print(l2)\n",
    "print(l)\n",
    "print(id(l), id(l2))"
   ]
  },
  {
   "cell_type": "code",
   "execution_count": 18,
   "metadata": {},
   "outputs": [
    {
     "name": "stdout",
     "output_type": "stream",
     "text": [
      "<class 'range'>\n",
      "<class 'list'>\n",
      "[:]:\t\t [0, 1, 2, 3, 4, 5, 6, 7, 8, 9]\n",
      "[:3]:\t\t [0, 1]\n",
      "[3:]:\t\t [2, 3, 4, 5, 6, 7, 8, 9]\n",
      "[1:5]:\t\t [1, 2, 3, 4]\n",
      "[5:1]:\t\t []\n",
      "[::-1]:\t\t [9, 8, 7, 6, 5, 4, 3, 2, 1, 0]\n",
      "[:-3:-1]:\t [9, 8]\n",
      "[5:1:-1]:\t [5, 4, 3, 2]\n",
      "[20:]:\t\t []\n",
      "[-20:]:\t\t [0, 1, 2, 3, 4, 5, 6, 7, 8, 9]\n"
     ]
    }
   ],
   "source": [
    "print(type(range(10)))  # range is not a list!\n",
    "\n",
    "l = list(range(10))\n",
    "print(type(l))\n",
    "\n",
    "print('[:]:\\t\\t', l[:])\n",
    "print('[:3]:\\t\\t', l[:2])\n",
    "print('[3:]:\\t\\t', l[2:])\n",
    "print('[1:5]:\\t\\t', l[1:5])\n",
    "print('[5:1]:\\t\\t', l[5:1])\n",
    "print('[::-1]:\\t\\t', l[::-1])\n",
    "print('[:-3:-1]:\\t', l[:-3:-1])\n",
    "print('[5:1:-1]:\\t', l[5:1:-1])\n",
    "print('[20:]:\\t\\t', l[20:])\n",
    "print('[-20:]:\\t\\t', l[-20:])"
   ]
  },
  {
   "cell_type": "code",
   "execution_count": 19,
   "metadata": {},
   "outputs": [
    {
     "name": "stdout",
     "output_type": "stream",
     "text": [
      "139809855089864 139809863953224\n"
     ]
    }
   ],
   "source": [
    "print(id(l), id(l[:]))  # the way to shallow-copy a list"
   ]
  },
  {
   "cell_type": "markdown",
   "metadata": {},
   "source": [
    "What is shallow copy:"
   ]
  },
  {
   "cell_type": "code",
   "execution_count": 20,
   "metadata": {},
   "outputs": [
    {
     "name": "stdout",
     "output_type": "stream",
     "text": [
      "[1, 2, [3, 4, 5]]\n",
      "\n",
      "[1, 2, [-3, 4, 5]]\n",
      "[1, 2, [-3, 4, 5]]\n",
      "\n",
      "[1, 2, [-3, 4, 5]]\n",
      "[-1, 2, [-3, 4, 5]]\n"
     ]
    }
   ],
   "source": [
    "l = [1, 2, [3, 4, 5]]\n",
    "l2 = l[:]\n",
    "print(l)\n",
    "print()\n",
    "\n",
    "l2[-1][0] *= -1  # not exactly works...\n",
    "print(l)\n",
    "print(l2)\n",
    "print()\n",
    "\n",
    "l2[0] *= -1      # this works\n",
    "print(l)\n",
    "print(l2)"
   ]
  },
  {
   "cell_type": "markdown",
   "metadata": {},
   "source": [
    "Just some strange tricks:"
   ]
  },
  {
   "cell_type": "code",
   "execution_count": 21,
   "metadata": {},
   "outputs": [
    {
     "name": "stdout",
     "output_type": "stream",
     "text": [
      "[831, 0, 831, 0, 831, 0, 831, 0, 831, 0]\n"
     ]
    }
   ],
   "source": [
    "print([831, 0] * 5)"
   ]
  },
  {
   "cell_type": "code",
   "execution_count": 22,
   "metadata": {},
   "outputs": [
    {
     "name": "stdout",
     "output_type": "stream",
     "text": [
      "[[...]]\n",
      "True\n",
      "True\n"
     ]
    }
   ],
   "source": [
    "l = []\n",
    "l.append(l)  # the magic is too dark in here\n",
    "print(l)\n",
    "print(l is l[0])\n",
    "print(l is l[0][0][0][0][0])"
   ]
  },
  {
   "cell_type": "markdown",
   "metadata": {},
   "source": [
    "**List comprehension**\n",
    "\n",
    "Syntax:\n",
    "\n",
    "**\\[** function(variable) **for** variable **in** some_iterable (**if** some_condition) **\\]**\n",
    "\n",
    "Example:"
   ]
  },
  {
   "cell_type": "code",
   "execution_count": 23,
   "metadata": {},
   "outputs": [
    {
     "data": {
      "text/plain": [
       "[0, 1, 4, 9, 16]"
      ]
     },
     "execution_count": 23,
     "metadata": {},
     "output_type": "execute_result"
    }
   ],
   "source": [
    "[i ** 2 for i in range(5)]"
   ]
  },
  {
   "cell_type": "markdown",
   "metadata": {},
   "source": [
    "Simple excercise on list comprehensions: multiplication table"
   ]
  },
  {
   "cell_type": "code",
   "execution_count": 24,
   "metadata": {},
   "outputs": [
    {
     "name": "stdout",
     "output_type": "stream",
     "text": [
      "[['1', '2', '3', '4', '5', '6', '7', '8', '9'], ['2', '4', '6', '8', '10', '12', '14', '16', '18'], ['3', '6', '9', '12', '15', '18', '21', '24', '27'], ['4', '8', '12', '16', '20', '24', '28', '32', '36'], ['5', '10', '15', '20', '25', '30', '35', '40', '45'], ['6', '12', '18', '24', '30', '36', '42', '48', '54'], ['7', '14', '21', '28', '35', '42', '49', '56', '63'], ['8', '16', '24', '32', '40', '48', '56', '64', '72'], ['9', '18', '27', '36', '45', '54', '63', '72', '81']]\n"
     ]
    }
   ],
   "source": [
    "table = [[str(i * j) for j in range(1, 10)] for i in range(1, 10)]\n",
    "print(table)"
   ]
  },
  {
   "cell_type": "markdown",
   "metadata": {},
   "source": [
    "Fancier:"
   ]
  },
  {
   "cell_type": "code",
   "execution_count": 25,
   "metadata": {},
   "outputs": [
    {
     "name": "stdout",
     "output_type": "stream",
     "text": [
      "['1', '2', '3', '4', '5', '6', '7', '8', '9']\n",
      "['2', '4', '6', '8', '10', '12', '14', '16', '18']\n",
      "['3', '6', '9', '12', '15', '18', '21', '24', '27']\n",
      "['4', '8', '12', '16', '20', '24', '28', '32', '36']\n",
      "['5', '10', '15', '20', '25', '30', '35', '40', '45']\n",
      "['6', '12', '18', '24', '30', '36', '42', '48', '54']\n",
      "['7', '14', '21', '28', '35', '42', '49', '56', '63']\n",
      "['8', '16', '24', '32', '40', '48', '56', '64', '72']\n",
      "['9', '18', '27', '36', '45', '54', '63', '72', '81']\n"
     ]
    }
   ],
   "source": [
    "print(*table, sep='\\n')"
   ]
  },
  {
   "cell_type": "markdown",
   "metadata": {},
   "source": [
    "Even more fancy!"
   ]
  },
  {
   "cell_type": "code",
   "execution_count": 26,
   "metadata": {},
   "outputs": [
    {
     "name": "stdout",
     "output_type": "stream",
     "text": [
      "1\t2\t3\t4\t5\t6\t7\t8\t9\n",
      "2\t4\t6\t8\t10\t12\t14\t16\t18\n",
      "3\t6\t9\t12\t15\t18\t21\t24\t27\n",
      "4\t8\t12\t16\t20\t24\t28\t32\t36\n",
      "5\t10\t15\t20\t25\t30\t35\t40\t45\n",
      "6\t12\t18\t24\t30\t36\t42\t48\t54\n",
      "7\t14\t21\t28\t35\t42\t49\t56\t63\n",
      "8\t16\t24\t32\t40\t48\t56\t64\t72\n",
      "9\t18\t27\t36\t45\t54\t63\t72\t81\n"
     ]
    }
   ],
   "source": [
    "print(*['\\t'.join(row) for row in table], sep='\\n')"
   ]
  },
  {
   "cell_type": "code",
   "execution_count": 83,
   "metadata": {},
   "outputs": [
    {
     "name": "stdout",
     "output_type": "stream",
     "text": [
      "Types: {<class 'int'>: 257, <class 'float'>: 0.5, <class 'bool'>: True, <class 'list'>: ['1', '2', '3']}\n"
     ]
    }
   ],
   "source": [
    "python_types[type(table)] = table[0][:3]\n",
    "print('Types:', python_types)"
   ]
  },
  {
   "cell_type": "markdown",
   "metadata": {},
   "source": [
    "### 2.2 Dictionary (key-value storage): dict\n",
    "Kind of C++ map, but hashtable-based"
   ]
  },
  {
   "cell_type": "code",
   "execution_count": 27,
   "metadata": {},
   "outputs": [
    {
     "name": "stdout",
     "output_type": "stream",
     "text": [
      "{'one': 1, 'two': 831, 'three': 3.0} <class 'dict'>\n"
     ]
    }
   ],
   "source": [
    "d = {}  # init\n",
    "d['one'] = 1\n",
    "d['two'] = 2\n",
    "d['three'] = 3.\n",
    "\n",
    "d['two'] = 831\n",
    "\n",
    "print(d, type(d))"
   ]
  },
  {
   "cell_type": "code",
   "execution_count": 48,
   "metadata": {},
   "outputs": [
    {
     "data": {
      "text/plain": [
       "{'key1': 'value_other', 'key2': 'value2'}"
      ]
     },
     "execution_count": 48,
     "metadata": {},
     "output_type": "execute_result"
    }
   ],
   "source": [
    "# we could also construct a dict from key-value pairs\n",
    "dict([('key1', 'value1'), ('key2', 'value2'), ('key1', 'value_other')])"
   ]
  },
  {
   "cell_type": "markdown",
   "metadata": {},
   "source": [
    "Since Python 3.6 it's guaranteed that iteration order is the same as insertion order (https://docs.python.org/3/whatsnew/3.6.html#whatsnew36-compactdict)\n",
    "\n",
    "But still it's better not to depend on this."
   ]
  },
  {
   "cell_type": "code",
   "execution_count": 28,
   "metadata": {},
   "outputs": [
    {
     "name": "stdout",
     "output_type": "stream",
     "text": [
      "Key: one\n",
      "Key: two\n",
      "Key: three\n"
     ]
    }
   ],
   "source": [
    "for i in d.keys():\n",
    "    print('Key:', i)"
   ]
  },
  {
   "cell_type": "code",
   "execution_count": 29,
   "metadata": {},
   "outputs": [
    {
     "name": "stdout",
     "output_type": "stream",
     "text": [
      "Value: 1\n",
      "Value: 831\n",
      "Value: 3.0\n"
     ]
    }
   ],
   "source": [
    "for i in d.values():\n",
    "    print('Value:', i)"
   ]
  },
  {
   "cell_type": "code",
   "execution_count": 30,
   "metadata": {},
   "outputs": [
    {
     "name": "stdout",
     "output_type": "stream",
     "text": [
      "Key: one \tvalue: 1\n",
      "Key: two \tvalue: 831\n",
      "Key: three \tvalue: 3.0\n"
     ]
    }
   ],
   "source": [
    "for key, value in d.items():\n",
    "    print('Key:', key, '\\tvalue:', value)"
   ]
  },
  {
   "cell_type": "markdown",
   "metadata": {},
   "source": [
    "**Dict comprehension**\n",
    "\n",
    "Syntax:\n",
    "\n",
    "**\\{** key(variable): value(variable) **for** variable **in** some_iterable (**if** some_condition) **\\}**\n",
    "\n",
    "Example:"
   ]
  },
  {
   "cell_type": "code",
   "execution_count": 31,
   "metadata": {},
   "outputs": [
    {
     "data": {
      "text/plain": [
       "{0: 0, 1: 1, 2: 4, 3: 9, 4: 16}"
      ]
     },
     "execution_count": 31,
     "metadata": {},
     "output_type": "execute_result"
    }
   ],
   "source": [
    "{i : i ** 2 for i in range(5)}"
   ]
  },
  {
   "cell_type": "code",
   "execution_count": 58,
   "metadata": {},
   "outputs": [
    {
     "data": {
      "text/plain": [
       "{831: 'two', 3.0: 'newkey'}"
      ]
     },
     "execution_count": 58,
     "metadata": {},
     "output_type": "execute_result"
    }
   ],
   "source": [
    "{value: key for key, value in d.items() if key != 'one'}"
   ]
  },
  {
   "cell_type": "markdown",
   "metadata": {},
   "source": [
    "Since dict is a hash table, **keys** must be **hashable**. What is hashable, then?\n",
    "\n",
    "First of all, hashable types are immutable objects. It's impossible to do something like this:"
   ]
  },
  {
   "cell_type": "code",
   "execution_count": 32,
   "metadata": {},
   "outputs": [
    {
     "ename": "TypeError",
     "evalue": "unhashable type: 'list'",
     "output_type": "error",
     "traceback": [
      "\u001b[0;31m---------------------------------------------------------------------------\u001b[0m",
      "\u001b[0;31mTypeError\u001b[0m                                 Traceback (most recent call last)",
      "\u001b[0;32m<ipython-input-32-a70145344b32>\u001b[0m in \u001b[0;36m<module>\u001b[0;34m\u001b[0m\n\u001b[0;32m----> 1\u001b[0;31m \u001b[0md\u001b[0m\u001b[0;34m[\u001b[0m\u001b[0mlist\u001b[0m\u001b[0;34m(\u001b[0m\u001b[0mrange\u001b[0m\u001b[0;34m(\u001b[0m\u001b[0;36m5\u001b[0m\u001b[0;34m)\u001b[0m\u001b[0;34m)\u001b[0m\u001b[0;34m]\u001b[0m \u001b[0;34m=\u001b[0m \u001b[0;34m'something'\u001b[0m\u001b[0;34m\u001b[0m\u001b[0;34m\u001b[0m\u001b[0m\n\u001b[0m",
      "\u001b[0;31mTypeError\u001b[0m: unhashable type: 'list'"
     ]
    }
   ],
   "source": [
    "d[list(range(5))] = 'something'"
   ]
  },
  {
   "cell_type": "code",
   "execution_count": 33,
   "metadata": {},
   "outputs": [
    {
     "name": "stdout",
     "output_type": "stream",
     "text": [
      "<method-wrapper '__hash__' of int object at 0xa67ac0>\n",
      "None\n"
     ]
    }
   ],
   "source": [
    "print((1).__hash__)\n",
    "print([].__hash__)"
   ]
  },
  {
   "cell_type": "markdown",
   "metadata": {},
   "source": [
    "Getting and removing:"
   ]
  },
  {
   "cell_type": "code",
   "execution_count": 38,
   "metadata": {},
   "outputs": [
    {
     "name": "stdout",
     "output_type": "stream",
     "text": [
      "no 1 in {'one': 1, 'two': 831, 'three': 3.0}\n"
     ]
    }
   ],
   "source": [
    "key = 1\n",
    "if key in d:\n",
    "    print(d[key])\n",
    "else:\n",
    "    print('no {} in {}'.format(key, d))"
   ]
  },
  {
   "cell_type": "code",
   "execution_count": 41,
   "metadata": {},
   "outputs": [
    {
     "name": "stdout",
     "output_type": "stream",
     "text": [
      "None\n",
      "42\n"
     ]
    }
   ],
   "source": [
    "print(d.get(key))\n",
    "print(d.get(key, 42))"
   ]
  },
  {
   "cell_type": "code",
   "execution_count": 45,
   "metadata": {},
   "outputs": [
    {
     "data": {
      "text/plain": [
       "{'one': 1, 'two': 831, 'newkey': 3.0}"
      ]
     },
     "execution_count": 45,
     "metadata": {},
     "output_type": "execute_result"
    }
   ],
   "source": [
    "d['newkey'] = d.pop('three')\n",
    "d"
   ]
  },
  {
   "cell_type": "code",
   "execution_count": 84,
   "metadata": {},
   "outputs": [
    {
     "name": "stdout",
     "output_type": "stream",
     "text": [
      "Types: {<class 'int'>: 257, <class 'float'>: 0.5, <class 'bool'>: True, <class 'list'>: ['1', '2', '3'], <class 'dict'>: {'one': 1, 'two': 831, 'newkey': 3.0}}\n"
     ]
    }
   ],
   "source": [
    "python_types[type(d)] = d\n",
    "print('Types:', python_types)"
   ]
  },
  {
   "cell_type": "markdown",
   "metadata": {},
   "source": [
    "### 2.2.1 Dictionary with default values: collections.defaultdict"
   ]
  },
  {
   "cell_type": "code",
   "execution_count": 54,
   "metadata": {},
   "outputs": [
    {
     "name": "stdout",
     "output_type": "stream",
     "text": [
      "0\n"
     ]
    }
   ],
   "source": [
    "from collections import defaultdict\n",
    "\n",
    "dd = defaultdict(int)\n",
    "print(dd['key'])"
   ]
  },
  {
   "cell_type": "code",
   "execution_count": 55,
   "metadata": {},
   "outputs": [
    {
     "data": {
      "text/plain": [
       "defaultdict(int, {'key': 0, 200: 0, 100: 1})"
      ]
     },
     "execution_count": 55,
     "metadata": {},
     "output_type": "execute_result"
    }
   ],
   "source": [
    "dd[100] = dd[200] + 1\n",
    "dd"
   ]
  },
  {
   "cell_type": "markdown",
   "metadata": {},
   "source": [
    "### 2.3 Set: set\n",
    "A dict without values"
   ]
  },
  {
   "cell_type": "code",
   "execution_count": 76,
   "metadata": {},
   "outputs": [
    {
     "name": "stdout",
     "output_type": "stream",
     "text": [
      "{1, 2, 3, 'a'} {'a', 'b', 'c'}\n"
     ]
    }
   ],
   "source": [
    "s1 = {1, 2, 3, 'a'}\n",
    "s2 = set('abacaba')\n",
    "print(s1, s2)"
   ]
  },
  {
   "cell_type": "code",
   "execution_count": 77,
   "metadata": {},
   "outputs": [
    {
     "name": "stdout",
     "output_type": "stream",
     "text": [
      "Union: {1, 2, 3, 'c', 'a', 'b'}\n",
      "Intersection: {'a'}\n",
      "Difference: {'b', 'c'}\n",
      "Symmetric difference: {1, 2, 3, 'b', 'c'}\n"
     ]
    }
   ],
   "source": [
    "print('Union:', s1 | s2)\n",
    "print('Intersection:', s1 & s2)\n",
    "print('Difference:', s2 - s1)\n",
    "print('Symmetric difference:', s1 ^ s2)"
   ]
  },
  {
   "cell_type": "code",
   "execution_count": 78,
   "metadata": {},
   "outputs": [
    {
     "data": {
      "text/plain": [
       "{(10, 9, 8), 1, 2, 3, 'a'}"
      ]
     },
     "execution_count": 78,
     "metadata": {},
     "output_type": "execute_result"
    }
   ],
   "source": [
    "s1.add(tuple(range(10, 7, -1)))\n",
    "s1"
   ]
  },
  {
   "cell_type": "code",
   "execution_count": 79,
   "metadata": {},
   "outputs": [
    {
     "name": "stdout",
     "output_type": "stream",
     "text": [
      "1\n",
      "2\n",
      "3\n",
      "a\n",
      "(10, 9, 8)\n"
     ]
    }
   ],
   "source": [
    "for item in s1:\n",
    "    print(item)"
   ]
  },
  {
   "cell_type": "code",
   "execution_count": 80,
   "metadata": {},
   "outputs": [
    {
     "name": "stdout",
     "output_type": "stream",
     "text": [
      "1 {2, 3, 'a', (10, 9, 8)}\n",
      "2 {3, 'a', (10, 9, 8)}\n",
      "3 {'a', (10, 9, 8)}\n",
      "a {(10, 9, 8)}\n",
      "(10, 9, 8) set()\n"
     ]
    }
   ],
   "source": [
    "while s1:\n",
    "    print(s1.pop(), s1)"
   ]
  },
  {
   "cell_type": "code",
   "execution_count": 85,
   "metadata": {},
   "outputs": [
    {
     "name": "stdout",
     "output_type": "stream",
     "text": [
      "Types: {<class 'int'>: 257, <class 'float'>: 0.5, <class 'bool'>: True, <class 'list'>: ['1', '2', '3'], <class 'dict'>: {'one': 1, 'two': 831, 'newkey': 3.0}, <class 'set'>: {'a', 'b', 'c'}}\n"
     ]
    }
   ],
   "source": [
    "python_types[type(s2)] = s2\n",
    "print('Types:', python_types)"
   ]
  },
  {
   "cell_type": "code",
   "execution_count": null,
   "metadata": {},
   "outputs": [],
   "source": []
  },
  {
   "cell_type": "code",
   "execution_count": null,
   "metadata": {},
   "outputs": [],
   "source": []
  }
 ],
 "metadata": {
  "kernelspec": {
   "display_name": "Python 3",
   "language": "python",
   "name": "python3"
  },
  "language_info": {
   "codemirror_mode": {
    "name": "ipython",
    "version": 3
   },
   "file_extension": ".py",
   "mimetype": "text/x-python",
   "name": "python",
   "nbconvert_exporter": "python",
   "pygments_lexer": "ipython3",
   "version": "3.6.7"
  }
 },
 "nbformat": 4,
 "nbformat_minor": 2
}
