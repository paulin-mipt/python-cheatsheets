{
 "cells": [
  {
   "cell_type": "markdown",
   "metadata": {},
   "source": [
    "## Notes on seminar 5\n",
    "### Starring: functions\n",
    "#### Co-stars: generator functions, decorators, scopes"
   ]
  },
  {
   "cell_type": "markdown",
   "metadata": {},
   "source": [
    "## 1. Basic function syntax"
   ]
  },
  {
   "cell_type": "code",
   "execution_count": 1,
   "metadata": {},
   "outputs": [],
   "source": [
    "def sum_two(a, b):\n",
    "    return a + b"
   ]
  },
  {
   "cell_type": "code",
   "execution_count": 2,
   "metadata": {},
   "outputs": [],
   "source": [
    "sum_two(1, 2)"
   ]
  },
  {
   "cell_type": "code",
   "execution_count": 5,
   "metadata": {},
   "outputs": [
    {
     "data": {
      "text/plain": [
       "'1123'"
      ]
     },
     "execution_count": 5,
     "metadata": {},
     "output_type": "execute_result"
    }
   ],
   "source": [
    "sum_two('1', '123')"
   ]
  },
  {
   "cell_type": "code",
   "execution_count": 6,
   "metadata": {},
   "outputs": [],
   "source": [
    "def sum_two_optional(a, b=2):\n",
    "    print(a + b)  # no return statement"
   ]
  },
  {
   "cell_type": "code",
   "execution_count": 7,
   "metadata": {},
   "outputs": [
    {
     "name": "stdout",
     "output_type": "stream",
     "text": [
      "3\n",
      "None\n"
     ]
    }
   ],
   "source": [
    "print(sum_two_optional(1))"
   ]
  },
  {
   "cell_type": "markdown",
   "metadata": {},
   "source": [
    "### 1.1 Function as an object"
   ]
  },
  {
   "cell_type": "code",
   "execution_count": 8,
   "metadata": {},
   "outputs": [
    {
     "name": "stdout",
     "output_type": "stream",
     "text": [
      "Name: hello\n",
      "Docstring: Prints a greeting\n",
      "Type: <class 'function'>\n",
      "Id: 139836826839376\n",
      "Hash: 8739801677461\n"
     ]
    }
   ],
   "source": [
    "def hello():\n",
    "    '''Prints a greeting'''\n",
    "    print('Hello world')\n",
    "\n",
    "# Let's make a little dossier\n",
    "print('Name:', hello.__name__)\n",
    "print('Docstring:', hello.__doc__)\n",
    "print('Type:', type(hello))\n",
    "print('Id:', id(hello))\n",
    "print('Hash:', hash(hello))"
   ]
  },
  {
   "cell_type": "code",
   "execution_count": 9,
   "metadata": {},
   "outputs": [
    {
     "name": "stdout",
     "output_type": "stream",
     "text": [
      "<code object hello at 0x7f2e4c5c5780, file \"<ipython-input-8-e561bfc9e072>\", line 1>\n"
     ]
    }
   ],
   "source": [
    "print(hello.__code__)"
   ]
  },
  {
   "cell_type": "code",
   "execution_count": 66,
   "metadata": {},
   "outputs": [
    {
     "data": {
      "text/plain": [
       "'sqrt(x)\\n\\nReturn the square root of x.'"
      ]
     },
     "execution_count": 66,
     "metadata": {},
     "output_type": "execute_result"
    }
   ],
   "source": [
    "from math import sqrt\n",
    "\n",
    "# Even a standard function can be hacked :)\n",
    "sqrt.__doc__"
   ]
  },
  {
   "cell_type": "markdown",
   "metadata": {},
   "source": [
    "It's possible to assign and reassign functions:"
   ]
  },
  {
   "cell_type": "code",
   "execution_count": 15,
   "metadata": {},
   "outputs": [
    {
     "name": "stdout",
     "output_type": "stream",
     "text": [
      "Hey you!\n"
     ]
    }
   ],
   "source": [
    "please_print = print\n",
    "please_print('Hey you!')"
   ]
  },
  {
   "cell_type": "code",
   "execution_count": 18,
   "metadata": {},
   "outputs": [],
   "source": [
    "print = (lambda x: None)"
   ]
  },
  {
   "cell_type": "code",
   "execution_count": 19,
   "metadata": {},
   "outputs": [
    {
     "name": "stdout",
     "output_type": "stream",
     "text": [
      "Please, print!!!\n"
     ]
    }
   ],
   "source": [
    "print('Print')  # nothing happens there\n",
    "please_print('Please, print!!!')"
   ]
  },
  {
   "cell_type": "code",
   "execution_count": 20,
   "metadata": {},
   "outputs": [],
   "source": [
    "print = please_print  # restore it back"
   ]
  },
  {
   "cell_type": "markdown",
   "metadata": {},
   "source": [
    "### 1.2 Variable number or arguments (a.k.a args & kwargs)"
   ]
  },
  {
   "cell_type": "code",
   "execution_count": 21,
   "metadata": {},
   "outputs": [],
   "source": [
    "def sum_any_number_of_args(a, b=2, *args):\n",
    "    print('a:', a)\n",
    "    print('b:', b)\n",
    "    print('args:', args)\n",
    "    return a + b + sum(args)"
   ]
  },
  {
   "cell_type": "code",
   "execution_count": 22,
   "metadata": {},
   "outputs": [
    {
     "name": "stdout",
     "output_type": "stream",
     "text": [
      "a: 1\n",
      "b: 2\n",
      "args: (3, 4)\n"
     ]
    },
    {
     "data": {
      "text/plain": [
       "10"
      ]
     },
     "execution_count": 22,
     "metadata": {},
     "output_type": "execute_result"
    }
   ],
   "source": [
    "sum_any_number_of_args(1, 2, 3, 4)"
   ]
  },
  {
   "cell_type": "code",
   "execution_count": 23,
   "metadata": {},
   "outputs": [
    {
     "name": "stdout",
     "output_type": "stream",
     "text": [
      "a: 1\n",
      "b: 2\n",
      "args: ()\n"
     ]
    },
    {
     "data": {
      "text/plain": [
       "3"
      ]
     },
     "execution_count": 23,
     "metadata": {},
     "output_type": "execute_result"
    }
   ],
   "source": [
    "sum_any_number_of_args(1, 2)"
   ]
  },
  {
   "cell_type": "code",
   "execution_count": 24,
   "metadata": {},
   "outputs": [
    {
     "name": "stdout",
     "output_type": "stream",
     "text": [
      "a: 1\n",
      "b: 2\n",
      "args: ()\n"
     ]
    },
    {
     "data": {
      "text/plain": [
       "3"
      ]
     },
     "execution_count": 24,
     "metadata": {},
     "output_type": "execute_result"
    }
   ],
   "source": [
    "sum_any_number_of_args(1)"
   ]
  },
  {
   "cell_type": "code",
   "execution_count": 25,
   "metadata": {},
   "outputs": [],
   "source": [
    "def sum_any_number_of_args_and_kwargs(a, b=2, *args, **kwargs):\n",
    "    print('a:', a)\n",
    "    print('b:', b)\n",
    "    print('args:', args)\n",
    "    print('kwargs:', kwargs)\n",
    "    return a + b + sum(args) + sum(kwargs.values())"
   ]
  },
  {
   "cell_type": "code",
   "execution_count": 26,
   "metadata": {},
   "outputs": [
    {
     "name": "stdout",
     "output_type": "stream",
     "text": [
      "a: 1\n",
      "b: 2\n",
      "args: (3,)\n",
      "kwargs: {'value1': 10}\n"
     ]
    },
    {
     "data": {
      "text/plain": [
       "16"
      ]
     },
     "execution_count": 26,
     "metadata": {},
     "output_type": "execute_result"
    }
   ],
   "source": [
    "sum_any_number_of_args_and_kwargs(1, 2, 3, value1=10)"
   ]
  },
  {
   "cell_type": "code",
   "execution_count": 27,
   "metadata": {},
   "outputs": [
    {
     "name": "stdout",
     "output_type": "stream",
     "text": [
      "a: 0\n",
      "b: 1\n",
      "args: (2, 3, 4)\n",
      "kwargs: {}\n"
     ]
    },
    {
     "data": {
      "text/plain": [
       "10"
      ]
     },
     "execution_count": 27,
     "metadata": {},
     "output_type": "execute_result"
    }
   ],
   "source": [
    "sum_any_number_of_args_and_kwargs(*list(range(5)))"
   ]
  },
  {
   "cell_type": "code",
   "execution_count": 28,
   "metadata": {},
   "outputs": [
    {
     "name": "stdout",
     "output_type": "stream",
     "text": [
      "a: 0\n",
      "b: 1\n",
      "args: ()\n",
      "kwargs: {'one': 1, 'two': 2}\n"
     ]
    },
    {
     "data": {
      "text/plain": [
       "4"
      ]
     },
     "execution_count": 28,
     "metadata": {},
     "output_type": "execute_result"
    }
   ],
   "source": [
    "sum_any_number_of_args_and_kwargs(0, 1, **{'one': 1, 'two': 2})"
   ]
  },
  {
   "cell_type": "code",
   "execution_count": 29,
   "metadata": {},
   "outputs": [],
   "source": [
    "def add_len(iterable=[]):\n",
    "    print('Before:', iterable)\n",
    "    iterable.append(len(iterable))\n",
    "    print('After:', iterable)"
   ]
  },
  {
   "cell_type": "code",
   "execution_count": 30,
   "metadata": {},
   "outputs": [
    {
     "name": "stdout",
     "output_type": "stream",
     "text": [
      "Before: []\n",
      "After: [0]\n",
      "Before: []\n",
      "After: [0]\n"
     ]
    }
   ],
   "source": [
    "add_len([])\n",
    "add_len([])"
   ]
  },
  {
   "cell_type": "markdown",
   "metadata": {},
   "source": [
    "#### What can happen when your default argument is a mutable object? Actually, a lot"
   ]
  },
  {
   "cell_type": "code",
   "execution_count": 31,
   "metadata": {},
   "outputs": [
    {
     "name": "stdout",
     "output_type": "stream",
     "text": [
      "Before: []\n",
      "After: [0]\n",
      "Before: [0]\n",
      "After: [0, 1]\n",
      "Before: [0, 1]\n",
      "After: [0, 1, 2]\n"
     ]
    }
   ],
   "source": [
    "add_len()\n",
    "add_len()\n",
    "add_len()"
   ]
  },
  {
   "cell_type": "markdown",
   "metadata": {},
   "source": [
    "**How we would fix it production-like style?**"
   ]
  },
  {
   "cell_type": "code",
   "execution_count": 32,
   "metadata": {},
   "outputs": [],
   "source": [
    "def add_len(iterable=None):\n",
    "    if iterable is None:\n",
    "        iterable = []\n",
    "    if not isinstance(iterable, list):\n",
    "        raise ValueError('bad value: {}'.format(iterable))\n",
    "    \n",
    "    print('Before:', iterable)\n",
    "    iterable.append(len(iterable))\n",
    "    print('After:', iterable)"
   ]
  },
  {
   "cell_type": "code",
   "execution_count": 33,
   "metadata": {},
   "outputs": [
    {
     "name": "stdout",
     "output_type": "stream",
     "text": [
      "Before: []\n",
      "After: [0]\n",
      "Before: []\n",
      "After: [0]\n",
      "Before: []\n",
      "After: [0]\n"
     ]
    }
   ],
   "source": [
    "add_len()\n",
    "add_len()\n",
    "add_len()"
   ]
  },
  {
   "cell_type": "markdown",
   "metadata": {},
   "source": [
    "### 1.3 Anonymous function: lambda"
   ]
  },
  {
   "cell_type": "code",
   "execution_count": 34,
   "metadata": {},
   "outputs": [],
   "source": [
    "def maths(a, b, operation):\n",
    "    '''\n",
    "    :param a: numeric value1\n",
    "    :param b: numeric value2\n",
    "    :param operation: function\n",
    "    :return: operation of a and b\n",
    "    '''\n",
    "    return operation(a, b)"
   ]
  },
  {
   "cell_type": "code",
   "execution_count": 35,
   "metadata": {},
   "outputs": [
    {
     "data": {
      "text/plain": [
       "3"
      ]
     },
     "execution_count": 35,
     "metadata": {},
     "output_type": "execute_result"
    }
   ],
   "source": [
    "maths(1, 2, lambda x, y: x + y)  # we could also define a normal function and pass it here"
   ]
  },
  {
   "cell_type": "markdown",
   "metadata": {},
   "source": [
    "## 2. Generator functions\n",
    "So-called coroutines"
   ]
  },
  {
   "cell_type": "code",
   "execution_count": 36,
   "metadata": {},
   "outputs": [],
   "source": [
    "def my_little_range(a, b, step=1):\n",
    "    tmp = a\n",
    "    while tmp < b:\n",
    "        print('yielding', tmp)\n",
    "        yield tmp\n",
    "        tmp += step"
   ]
  },
  {
   "cell_type": "code",
   "execution_count": 39,
   "metadata": {},
   "outputs": [
    {
     "name": "stdout",
     "output_type": "stream",
     "text": [
      "yielding 1\n",
      "1\n",
      "yielding 3\n",
      "3\n",
      "yielding 5\n",
      "5\n",
      "yielding 7\n",
      "7\n",
      "yielding 9\n",
      "9\n"
     ]
    }
   ],
   "source": [
    "import time\n",
    "\n",
    "for i in my_little_range(1, 10, 2):\n",
    "    print(i)\n",
    "    time.sleep(1)  # just to show how it works"
   ]
  },
  {
   "cell_type": "code",
   "execution_count": 43,
   "metadata": {},
   "outputs": [
    {
     "name": "stdout",
     "output_type": "stream",
     "text": [
      "<class 'generator'>\n",
      "<class 'range'>\n"
     ]
    }
   ],
   "source": [
    "print(type(my_little_range(1, 10)))\n",
    "print(type(range(1, 10)))  # range has a special class but it is a generator by nature"
   ]
  },
  {
   "cell_type": "markdown",
   "metadata": {},
   "source": [
    "**When iterator has no more elements to yield, it throws a StopIteration exception**"
   ]
  },
  {
   "cell_type": "code",
   "execution_count": 45,
   "metadata": {},
   "outputs": [
    {
     "name": "stdout",
     "output_type": "stream",
     "text": [
      "yielding 0\n",
      "yielding 1\n",
      "yielding 2\n"
     ]
    },
    {
     "ename": "StopIteration",
     "evalue": "",
     "output_type": "error",
     "traceback": [
      "\u001b[0;31m---------------------------------------------------------------------------\u001b[0m",
      "\u001b[0;31mStopIteration\u001b[0m                             Traceback (most recent call last)",
      "\u001b[0;32m<ipython-input-45-3fbf3b30581f>\u001b[0m in \u001b[0;36m<module>\u001b[0;34m\u001b[0m\n\u001b[1;32m      2\u001b[0m \u001b[0;34m\u001b[0m\u001b[0m\n\u001b[1;32m      3\u001b[0m \u001b[0;32mwhile\u001b[0m \u001b[0;32mTrue\u001b[0m\u001b[0;34m:\u001b[0m\u001b[0;34m\u001b[0m\u001b[0;34m\u001b[0m\u001b[0m\n\u001b[0;32m----> 4\u001b[0;31m     \u001b[0mnext\u001b[0m\u001b[0;34m(\u001b[0m\u001b[0mgenerator\u001b[0m\u001b[0;34m)\u001b[0m\u001b[0;34m\u001b[0m\u001b[0;34m\u001b[0m\u001b[0m\n\u001b[0m",
      "\u001b[0;31mStopIteration\u001b[0m: "
     ]
    }
   ],
   "source": [
    "generator = my_little_range(0, 3)\n",
    "\n",
    "while True:\n",
    "    next(generator)"
   ]
  },
  {
   "cell_type": "markdown",
   "metadata": {},
   "source": [
    "## 3. Decorators\n",
    "Syntactic sugar. Typical usage: checking arguments, time measuring, logging, etc.\n",
    "\n",
    "Decorator is usually a function, but it can also be defined as an object with `__call__` method.\n",
    "\n",
    "Nice article series (in Russian): https://habr.com/ru/post/141411/"
   ]
  },
  {
   "cell_type": "code",
   "execution_count": 63,
   "metadata": {},
   "outputs": [],
   "source": [
    "def decorator(f):\n",
    "    def decorated_function(*args, **kwargs):\n",
    "        print('begin')\n",
    "        answer = f(*args, **kwargs)\n",
    "        print('end')\n",
    "        return answer\n",
    "    \n",
    "    return decorated_function"
   ]
  },
  {
   "cell_type": "code",
   "execution_count": 64,
   "metadata": {},
   "outputs": [
    {
     "name": "stdout",
     "output_type": "stream",
     "text": [
      "begin\n",
      "Name: decorated_function\n",
      "Hello\n",
      "end\n"
     ]
    }
   ],
   "source": [
    "@decorator\n",
    "def hello():\n",
    "    print('Name:', hello.__name__)  # something bad happened, we've lost a name!\n",
    "    print('Hello')\n",
    "\n",
    "hello()"
   ]
  },
  {
   "cell_type": "code",
   "execution_count": 65,
   "metadata": {},
   "outputs": [
    {
     "name": "stdout",
     "output_type": "stream",
     "text": [
      "begin\n",
      "Name: hello\n",
      "Hello\n",
      "end\n"
     ]
    }
   ],
   "source": [
    "def decorator(f):\n",
    "    def decorated_function(*args, **kwargs):\n",
    "        print('begin')\n",
    "        answer = f(*args, **kwargs)\n",
    "        print('end')\n",
    "        return answer\n",
    "    \n",
    "    decorated_function.__name__ = f.__name__  # no worries, we can keep it!\n",
    "    return decorated_function\n",
    "\n",
    "@decorator\n",
    "def hello():\n",
    "    print('Name:', hello.__name__)\n",
    "    print('Hello')\n",
    "\n",
    "hello()"
   ]
  },
  {
   "cell_type": "markdown",
   "metadata": {},
   "source": [
    "**Let's make a decorator preventing function from being called more than once**\n",
    "\n",
    "**Variant 1:**"
   ]
  },
  {
   "cell_type": "code",
   "execution_count": 53,
   "metadata": {},
   "outputs": [],
   "source": [
    "def call_once(f):\n",
    "    called = False\n",
    "    \n",
    "    def decorated_function(*args, **kwargs):\n",
    "        nonlocal called\n",
    "        if not called:\n",
    "            called = True\n",
    "            return f(*args, **kwargs)\n",
    "        else:\n",
    "            print('sorry but no')\n",
    "    \n",
    "    return decorated_function"
   ]
  },
  {
   "cell_type": "markdown",
   "metadata": {},
   "source": [
    "**Variant 2:**"
   ]
  },
  {
   "cell_type": "code",
   "execution_count": 54,
   "metadata": {},
   "outputs": [],
   "source": [
    "def call_once(f):\n",
    "    def decorated_function(*args, **kwargs):\n",
    "        if not hasattr(f, 'called'):\n",
    "            f.called = True\n",
    "            return f(*args, **kwargs)\n",
    "        else:\n",
    "            print('sorry but no')\n",
    "    \n",
    "    return decorated_function"
   ]
  },
  {
   "cell_type": "code",
   "execution_count": 55,
   "metadata": {},
   "outputs": [],
   "source": [
    "@call_once\n",
    "def hello():\n",
    "    print('Hello')"
   ]
  },
  {
   "cell_type": "code",
   "execution_count": 56,
   "metadata": {},
   "outputs": [
    {
     "name": "stdout",
     "output_type": "stream",
     "text": [
      "Hello\n",
      "sorry but no\n",
      "sorry but no\n"
     ]
    }
   ],
   "source": [
    "hello()\n",
    "hello()\n",
    "hello()"
   ]
  },
  {
   "cell_type": "markdown",
   "metadata": {},
   "source": [
    "### 3.1 Parametrized decorators\n",
    "\\+example for functools.wraps\n",
    "\n",
    "\\+example for multiple decorators"
   ]
  },
  {
   "cell_type": "code",
   "execution_count": 78,
   "metadata": {},
   "outputs": [
    {
     "name": "stdout",
     "output_type": "stream",
     "text": [
      "bread\n",
      "salad\n",
      "cheese\n",
      "SECRET\n",
      "cheese\n",
      "salad\n",
      "bread\n"
     ]
    }
   ],
   "source": [
    "import functools\n",
    "\n",
    "def sandwich(layer):\n",
    "    # Yes, it's a function that returns decorator (that wraps a function)!\n",
    "    \n",
    "    def wraps(func):\n",
    "        @functools.wraps(func)\n",
    "        def wrapper(*args, **kwargs):\n",
    "            print(layer)\n",
    "            result = func(*args, **kwargs)\n",
    "            print(layer)\n",
    "            return result\n",
    "        return wrapper\n",
    "    \n",
    "    return wraps\n",
    "\n",
    "@sandwich('bread')\n",
    "@sandwich('salad')\n",
    "@sandwich('cheese') \n",
    "def func():\n",
    "    print('SECRET')    \n",
    "\n",
    "func()"
   ]
  },
  {
   "cell_type": "markdown",
   "metadata": {},
   "source": [
    "## 4. Scope"
   ]
  },
  {
   "cell_type": "markdown",
   "metadata": {},
   "source": [
    "**At the root level all globals are actually locals**"
   ]
  },
  {
   "cell_type": "code",
   "execution_count": 67,
   "metadata": {},
   "outputs": [
    {
     "data": {
      "text/plain": [
       "True"
      ]
     },
     "execution_count": 67,
     "metadata": {},
     "output_type": "execute_result"
    }
   ],
   "source": [
    "globals() == locals()"
   ]
  },
  {
   "cell_type": "markdown",
   "metadata": {},
   "source": [
    "**Conditions and cycles don't create new scopes...**"
   ]
  },
  {
   "cell_type": "code",
   "execution_count": 70,
   "metadata": {},
   "outputs": [
    {
     "name": "stdout",
     "output_type": "stream",
     "text": [
      "True\n"
     ]
    }
   ],
   "source": [
    "if 2 * 2 == 4:\n",
    "    print(globals() == locals())"
   ]
  },
  {
   "cell_type": "markdown",
   "metadata": {},
   "source": [
    "**...but functions definitely do!**"
   ]
  },
  {
   "cell_type": "code",
   "execution_count": 73,
   "metadata": {},
   "outputs": [
    {
     "name": "stdout",
     "output_type": "stream",
     "text": [
      "{'b': 2, 'a': 100500}\n",
      "100\n",
      "100500\n"
     ]
    }
   ],
   "source": [
    "a = 100\n",
    "c = 100\n",
    "\n",
    "def func(a, b):\n",
    "    global c\n",
    "    c = 100500\n",
    "    a = 100500\n",
    "    print(locals())\n",
    "\n",
    "func(1, 2)\n",
    "print(a)  # didn't change\n",
    "print(c)  # changed"
   ]
  },
  {
   "cell_type": "markdown",
   "metadata": {},
   "source": [
    "## At last: a little trick"
   ]
  },
  {
   "cell_type": "code",
   "execution_count": null,
   "metadata": {},
   "outputs": [],
   "source": [
    "def factorial(n):\n",
    "    if n in (0, 1):\n",
    "        return 1\n",
    "    return n * factorial(n - 1)"
   ]
  },
  {
   "cell_type": "code",
   "execution_count": null,
   "metadata": {},
   "outputs": [],
   "source": [
    "factorial(5)"
   ]
  },
  {
   "cell_type": "code",
   "execution_count": null,
   "metadata": {},
   "outputs": [],
   "source": [
    "factorial2 = factorial\n",
    "factorial2(5)"
   ]
  },
  {
   "cell_type": "code",
   "execution_count": null,
   "metadata": {},
   "outputs": [],
   "source": [
    "id(factorial) == id(factorial2)"
   ]
  },
  {
   "cell_type": "code",
   "execution_count": null,
   "metadata": {},
   "outputs": [],
   "source": [
    "def factorial(n):\n",
    "    return 1\n",
    "\n",
    "factorial(5)"
   ]
  },
  {
   "cell_type": "code",
   "execution_count": null,
   "metadata": {},
   "outputs": [],
   "source": [
    "factorial2(5)  # WTF?! Guess what went wrong"
   ]
  },
  {
   "cell_type": "code",
   "execution_count": null,
   "metadata": {},
   "outputs": [],
   "source": []
  }
 ],
 "metadata": {
  "kernelspec": {
   "display_name": "Python 3",
   "language": "python",
   "name": "python3"
  },
  "language_info": {
   "codemirror_mode": {
    "name": "ipython",
    "version": 3
   },
   "file_extension": ".py",
   "mimetype": "text/x-python",
   "name": "python",
   "nbconvert_exporter": "python",
   "pygments_lexer": "ipython3",
   "version": "3.6.7"
  }
 },
 "nbformat": 4,
 "nbformat_minor": 2
}
